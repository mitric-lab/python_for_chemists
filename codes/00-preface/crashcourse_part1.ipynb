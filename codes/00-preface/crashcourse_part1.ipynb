{
 "cells": [
  {
   "cell_type": "markdown",
   "metadata": {},
   "source": [
    "# Crashkurs: Jupyter Notebooks und Python\n",
    "\n",
    "Dieses Notebook zeigt, wie Sie `jupyter`-Notebooks nutzen, um Code zu schreiben und auszuführen. Stellen Sie sicher, dass `python` und `jupyter` installiert sind, wie in den [Vorlesungsunterlagen](https://mitric-lab.github.io/python_for_chemists/00-preface/02-getting_started.html) beschrieben. Anhand von Beispielen lernen Sie hier die Grundlagen von Python."
   ]
  },
  {
   "cell_type": "markdown",
   "metadata": {},
   "source": [
    "## Nutzung von Jupyter Notebooks\n",
    "\n",
    "`Jupyter`-Notebooks bestehen aus Eingabe- und Ausgabezellen. Eingabezellen enthalten Code oder Text (z. B. Markdown, HTML, LaTeX), während Ausgabezellen die Ergebnisse anzeigen. Sie können interaktive Dokumente erstellen und in HTML oder PDF exportieren.\n",
    "\n",
    "Starten Sie einen `jupyter`-Server, indem Sie im gewünschten Verzeichnis den Befehl ausführen:\n",
    "\n",
    "```\n",
    "> jupyter notebook\n",
    "```\n",
    "\n",
    "Ein Browser öffnet sich, in dem Sie `.ipynb`-Dateien öffnen oder neue Notebooks erstellen können. Bearbeiten Sie Zellen durch Doppelklick und führen Sie sie mit `Shift+Enter` aus. Probieren Sie es mit der folgenden Zelle aus:"
   ]
  },
  {
   "cell_type": "code",
   "execution_count": 1,
   "metadata": {},
   "outputs": [
    {
     "name": "stdout",
     "output_type": "stream",
     "text": [
      "42\n"
     ]
    }
   ],
   "source": [
    "x = 2 * 21\n",
    "print(x)"
   ]
  },
  {
   "cell_type": "markdown",
   "metadata": {},
   "source": [
    "Erstellen Sie neue Zellen mit `+` im Menü oder `b` auf der Tastatur. Wechseln Sie mit `Esc` in den Befehlsmodus, um Zellen hinzuzufügen, zu löschen (`dd`) oder den Typ zu ändern (`m` für Markdown, `y` für Code)."
   ]
  },
  {
   "cell_type": "markdown",
   "metadata": {},
   "source": [
    "Der `python`-Kernel führt den Code aus und zeigt den Status in der Statusleiste an. Führen Sie die folgende Zelle aus:"
   ]
  },
  {
   "cell_type": "code",
   "execution_count": 2,
   "metadata": {},
   "outputs": [],
   "source": [
    "s = 0\n",
    "for i in range(100_000_000):\n",
    "    if i % 2 == 1:\n",
    "        s += i"
   ]
  },
  {
   "cell_type": "markdown",
   "metadata": {},
   "source": [
    "Der Kernel speichert den Zustand über Zellen hinweg. Die Reihenfolge der Ausführung beeinflusst den Zustand. Starten Sie den Kernel neu, um den Zustand zurückzusetzen."
   ]
  },
  {
   "cell_type": "code",
   "execution_count": 3,
   "metadata": {},
   "outputs": [],
   "source": [
    "x = 42"
   ]
  },
  {
   "cell_type": "code",
   "execution_count": 4,
   "metadata": {},
   "outputs": [
    {
     "name": "stdout",
     "output_type": "stream",
     "text": [
      "42\n"
     ]
    }
   ],
   "source": [
    "print(x)"
   ]
  },
  {
   "cell_type": "markdown",
   "metadata": {},
   "source": [
    "Führen Sie die obigen Zellen in umgekehrter Reihenfolge aus, um einen Fehler zu erzeugen. Starten Sie den Kernel neu, um den Zustand zu löschen."
   ]
  },
  {
   "cell_type": "markdown",
   "metadata": {},
   "source": [
    "## Struktur eines Python-Programms ([ausführlich](https://www.python-kurs.eu/python3_bloecke.php))\n",
    "\n",
    "Pythoncode besteht aus Anweisungen, die nacheinander ausgeführt werden. Jede Anweisung endet mit einem Zeilenumbruch. Beispiel:"
   ]
  },
  {
   "cell_type": "code",
   "execution_count": 5,
   "metadata": {},
   "outputs": [
    {
     "name": "stdout",
     "output_type": "stream",
     "text": [
      "Guten Tag beim Python Crashkurs\n",
      "Viel Spaß beim Programmieren.\n"
     ]
    }
   ],
   "source": [
    "print(\"Guten Tag beim Python Crashkurs\")\n",
    "print(\"Viel Spaß beim Programmieren.\")"
   ]
  },
  {
   "cell_type": "markdown",
   "metadata": {},
   "source": [
    "Kommentare beginnen mit `#` und werden nicht ausgeführt. Vermeiden Sie Umlaute in Variablennamen und Kommentaren."
   ]
  },
  {
   "cell_type": "code",
   "execution_count": 6,
   "metadata": {},
   "outputs": [
    {
     "name": "stdout",
     "output_type": "stream",
     "text": [
      "Der danach kommende Ausdruck wird nicht ausgeführt\n"
     ]
    }
   ],
   "source": [
    "print(\"Der danach kommende Ausdruck wird nicht ausgeführt\")  # Das ist ein Kommentar"
   ]
  },
  {
   "cell_type": "markdown",
   "metadata": {},
   "source": [
    "Einrückungen definieren Blöcke. Beispiel:"
   ]
  },
  {
   "cell_type": "code",
   "execution_count": 7,
   "metadata": {},
   "outputs": [
    {
     "name": "stdout",
     "output_type": "stream",
     "text": [
      "Erster Block\n",
      "Zweiter Block\n",
      "Dritter Block\n",
      "Jetzt wieder zweiter Block\n",
      "Zweiter Block\n",
      "Dritter Block\n",
      "Jetzt wieder zweiter Block\n",
      "Zweiter Block\n",
      "Jetzt wieder zweiter Block\n",
      "Jetzt wieder erster Block\n"
     ]
    }
   ],
   "source": [
    "print(\"Erster Block\")\n",
    "for i in range(3):\n",
    "    print(\"Zweiter Block\")\n",
    "    if i < 2:\n",
    "        print(\"Dritter Block\")\n",
    "    print(\"Jetzt wieder zweiter Block\")\n",
    "print(\"Jetzt wieder erster Block\")"
   ]
  },
  {
   "cell_type": "markdown",
   "metadata": {},
   "source": [
    "Die Zugehörigkeit zu einem Block wird durch die Einrückung festgelegt."
   ]
  },
  {
   "cell_type": "markdown",
   "metadata": {},
   "source": [
    "## Variablen und elementare Datentypen ([ausführlich](https://www.python-kurs.eu/python3_variablen.php))\n",
    "Variablen speichern Werte und werden mit `=` zugewiesen. Beispiele:"
   ]
  },
  {
   "cell_type": "code",
   "execution_count": 8,
   "metadata": {},
   "outputs": [],
   "source": [
    "x = 10\n",
    "city = \"Hannover\"\n",
    "longVariable_Name = 3.14\n",
    "favorite_number_2 = 2.718\n",
    "complex_number = 1 + 2j"
   ]
  },
  {
   "cell_type": "markdown",
   "metadata": {},
   "source": [
    "'x' steht jetzt für den Wert 10 und kann in anderen Ausdrücken verwendet werden."
   ]
  },
  {
   "cell_type": "code",
   "execution_count": 9,
   "metadata": {},
   "outputs": [
    {
     "data": {
      "text/plain": [
       "10"
      ]
     },
     "execution_count": 9,
     "metadata": {},
     "output_type": "execute_result"
    }
   ],
   "source": [
    "x"
   ]
  },
  {
   "cell_type": "code",
   "execution_count": 10,
   "metadata": {},
   "outputs": [
    {
     "data": {
      "text/plain": [
       "100"
      ]
     },
     "execution_count": 10,
     "metadata": {},
     "output_type": "execute_result"
    }
   ],
   "source": [
    "x * x"
   ]
  },
  {
   "cell_type": "markdown",
   "metadata": {},
   "source": [
    "Um den Wert einer Variable auszuschreiben, verwenden Sie `print(...)`:"
   ]
  },
  {
   "cell_type": "code",
   "execution_count": 11,
   "metadata": {},
   "outputs": [
    {
     "name": "stdout",
     "output_type": "stream",
     "text": [
      "10\n",
      "100\n",
      "The value of x is:  10  and the value of x*x is :  100\n"
     ]
    }
   ],
   "source": [
    "print(x)\n",
    "print(x*x)\n",
    "print(\"The value of x is: \", x, \" and the value of x*x is : \", x*x)"
   ]
  },
  {
   "cell_type": "markdown",
   "metadata": {},
   "source": [
    "Variablen müssen zuerst definiert werden, bevor sie verwendet werden können."
   ]
  },
  {
   "cell_type": "code",
   "execution_count": 12,
   "metadata": {},
   "outputs": [
    {
     "ename": "NameError",
     "evalue": "name 'bla' is not defined",
     "output_type": "error",
     "traceback": [
      "\u001b[31m---------------------------------------------------------------------------\u001b[39m",
      "\u001b[31mNameError\u001b[39m                                 Traceback (most recent call last)",
      "\u001b[36mCell\u001b[39m\u001b[36m \u001b[39m\u001b[32mIn[12]\u001b[39m\u001b[32m, line 1\u001b[39m\n\u001b[32m----> \u001b[39m\u001b[32m1\u001b[39m \u001b[43mbla\u001b[49m\n",
      "\u001b[31mNameError\u001b[39m: name 'bla' is not defined"
     ]
    }
   ],
   "source": [
    "bla"
   ]
  },
  {
   "cell_type": "markdown",
   "metadata": {},
   "source": [
    "Variablen können unterschiedliche Datentypen enthalten. Beispiele: `int`, `float`, `str`, `complex`. Den Typ einer Variable finden Sie mit `type(variable_name)` heraus:"
   ]
  },
  {
   "cell_type": "code",
   "execution_count": 13,
   "metadata": {},
   "outputs": [
    {
     "data": {
      "text/plain": [
       "int"
      ]
     },
     "execution_count": 13,
     "metadata": {},
     "output_type": "execute_result"
    }
   ],
   "source": [
    "type(x)"
   ]
  },
  {
   "cell_type": "code",
   "execution_count": 14,
   "metadata": {},
   "outputs": [
    {
     "data": {
      "text/plain": [
       "str"
      ]
     },
     "execution_count": 14,
     "metadata": {},
     "output_type": "execute_result"
    }
   ],
   "source": [
    "type(city)"
   ]
  },
  {
   "cell_type": "code",
   "execution_count": 15,
   "metadata": {},
   "outputs": [
    {
     "data": {
      "text/plain": [
       "float"
      ]
     },
     "execution_count": 15,
     "metadata": {},
     "output_type": "execute_result"
    }
   ],
   "source": [
    "type(longVariable_Name)"
   ]
  },
  {
   "cell_type": "code",
   "execution_count": 16,
   "metadata": {},
   "outputs": [
    {
     "data": {
      "text/plain": [
       "complex"
      ]
     },
     "execution_count": 16,
     "metadata": {},
     "output_type": "execute_result"
    }
   ],
   "source": [
    "type(complex_number)"
   ]
  },
  {
   "cell_type": "markdown",
   "metadata": {},
   "source": [
    "Ein weiterer Datentyp ist `bool`. Boolesche Variablen können nur zwei Werte haben, `True` oder `False`."
   ]
  },
  {
   "cell_type": "code",
   "execution_count": 17,
   "metadata": {},
   "outputs": [
    {
     "data": {
      "text/plain": [
       "bool"
      ]
     },
     "execution_count": 17,
     "metadata": {},
     "output_type": "execute_result"
    }
   ],
   "source": [
    "condition = True\n",
    "type(condition)"
   ]
  },
  {
   "cell_type": "markdown",
   "metadata": {},
   "source": [
    "Boolesche Variablen sind häufig das Ergebnis von Vergleichsoperationen:"
   ]
  },
  {
   "cell_type": "code",
   "execution_count": 18,
   "metadata": {},
   "outputs": [
    {
     "data": {
      "text/plain": [
       "True"
      ]
     },
     "execution_count": 18,
     "metadata": {},
     "output_type": "execute_result"
    }
   ],
   "source": [
    "x == 10"
   ]
  },
  {
   "cell_type": "markdown",
   "metadata": {},
   "source": [
    "__Beachten Sie, dass zum Vergleichen der Operator `==` verwendet wird. `x = 10` würde der Variable `x` den Wert 10 zuweisen.__"
   ]
  },
  {
   "cell_type": "code",
   "execution_count": 19,
   "metadata": {},
   "outputs": [
    {
     "data": {
      "text/plain": [
       "True"
      ]
     },
     "execution_count": 19,
     "metadata": {},
     "output_type": "execute_result"
    }
   ],
   "source": [
    "x <= 100"
   ]
  },
  {
   "cell_type": "code",
   "execution_count": 20,
   "metadata": {},
   "outputs": [
    {
     "data": {
      "text/plain": [
       "False"
      ]
     },
     "execution_count": 20,
     "metadata": {},
     "output_type": "execute_result"
    }
   ],
   "source": [
    "x > 100"
   ]
  },
  {
   "cell_type": "markdown",
   "metadata": {},
   "source": [
    "Einige Vergleichsoperatoren auf einen Blick:\n",
    "\n",
    "        x == 1          Testet, ob die Variable x gleich dem Wert eins ist.\n",
    "        x >  1          Testet, ob x größer als der Wert eins ist.\n",
    "        x >= 1          Testet, ob x größer oder gleich dem Wert eins ist.\n",
    "        x <  1          Testet, ob x kleiner als der Wert eins ist.\n",
    "        x <= 1          Testet, ob x kleiner oder gleich dem Wert eins ist.\n",
    "        x != 1          Testet, ob x ungleich dem Wert eins ist."
   ]
  },
  {
   "cell_type": "markdown",
   "metadata": {},
   "source": [
    "Wenn eine Variable zwar definiert ist, aber keinen bestimmten Wert haben soll, kann man ihr den speziellen Datentyp `None` geben:"
   ]
  },
  {
   "cell_type": "code",
   "execution_count": 21,
   "metadata": {},
   "outputs": [
    {
     "data": {
      "text/plain": [
       "NoneType"
      ]
     },
     "execution_count": 21,
     "metadata": {},
     "output_type": "execute_result"
    }
   ],
   "source": [
    "someVariable = None\n",
    "type(someVariable)"
   ]
  },
  {
   "cell_type": "markdown",
   "metadata": {},
   "source": [
    "## Operatoren ([ausführlich](https://www.python-kurs.eu/python3_operatoren.php))\n",
    "Zwischen numerischen Datentypen sind die üblichen mathematischen Operatoren erlaubt. Gegebenenfalls müssen Klammern verwendet werden:"
   ]
  },
  {
   "cell_type": "code",
   "execution_count": 24,
   "metadata": {},
   "outputs": [
    {
     "data": {
      "text/plain": [
       "3.6"
      ]
     },
     "execution_count": 24,
     "metadata": {},
     "output_type": "execute_result"
    }
   ],
   "source": [
    "(1 + 5.0) * 3.0 / 5.0"
   ]
  },
  {
   "cell_type": "markdown",
   "metadata": {},
   "source": [
    "Dabei wertet Python immer zuerst den gesamten rechts stehenden Ausdruck aus, bevor es den Wert der Variablen zuweist. Beispiel:"
   ]
  },
  {
   "cell_type": "code",
   "execution_count": 25,
   "metadata": {},
   "outputs": [
    {
     "name": "stdout",
     "output_type": "stream",
     "text": [
      "1.3333333333333335\n"
     ]
    }
   ],
   "source": [
    "math_value = 2.0 + (3.0 - 5.0) / 3.0\n",
    "print(math_value)"
   ]
  },
  {
   "cell_type": "markdown",
   "metadata": {},
   "source": [
    "Boolesche Werte können durch logische Operationen (`and`, `or`, `not`) verknüpft werden:"
   ]
  },
  {
   "cell_type": "code",
   "execution_count": 26,
   "metadata": {},
   "outputs": [
    {
     "data": {
      "text/plain": [
       "True"
      ]
     },
     "execution_count": 26,
     "metadata": {},
     "output_type": "execute_result"
    }
   ],
   "source": [
    "True or False"
   ]
  },
  {
   "cell_type": "code",
   "execution_count": 27,
   "metadata": {},
   "outputs": [
    {
     "data": {
      "text/plain": [
       "False"
      ]
     },
     "execution_count": 27,
     "metadata": {},
     "output_type": "execute_result"
    }
   ],
   "source": [
    "not True"
   ]
  },
  {
   "cell_type": "code",
   "execution_count": 28,
   "metadata": {},
   "outputs": [
    {
     "data": {
      "text/plain": [
       "True"
      ]
     },
     "execution_count": 28,
     "metadata": {},
     "output_type": "execute_result"
    }
   ],
   "source": [
    "number = 7\n",
    "(number < 10) and (number > 5)"
   ]
  },
  {
   "cell_type": "markdown",
   "metadata": {},
   "source": [
    "## Listen (`list`, [ausführlich](https://www.python-kurs.eu/python3_sequentielle_datentypen.php))\n",
    "Der Datentyp `list` dient dazu, größere Mengen von Daten geordnet zu speichern.\n",
    "Eine Liste wird durch eckige Klammern `[...]` erzeugt:"
   ]
  },
  {
   "cell_type": "code",
   "execution_count": 29,
   "metadata": {},
   "outputs": [],
   "source": [
    "students = ['Hans', 'Klara', 'Lisa', 'Mark']"
   ]
  },
  {
   "cell_type": "markdown",
   "metadata": {},
   "source": [
    "Auf die Elemente einer Liste kann durch einen Index in eckigen Klammern direkt hinter der Variablen, der die Position des Elements in der Liste angibt, zugegriffen werden. __Die erste Position hat den Index `0` (nicht `1`)__"
   ]
  },
  {
   "cell_type": "code",
   "execution_count": 30,
   "metadata": {},
   "outputs": [
    {
     "name": "stdout",
     "output_type": "stream",
     "text": [
      "Hans\n",
      "Lisa\n"
     ]
    }
   ],
   "source": [
    "print(students[0])\n",
    "print(students[2])"
   ]
  },
  {
   "cell_type": "markdown",
   "metadata": {},
   "source": [
    "Statt von vorne zu zählen, kann man die Position auch von hinten angeben. Das letzte Element der Liste hat den Index -1, das vorletzte -2 usw."
   ]
  },
  {
   "cell_type": "code",
   "execution_count": 31,
   "metadata": {},
   "outputs": [
    {
     "name": "stdout",
     "output_type": "stream",
     "text": [
      "Mark\n"
     ]
    }
   ],
   "source": [
    "print(students[-1])"
   ]
  },
  {
   "cell_type": "markdown",
   "metadata": {},
   "source": [
    "Eine Liste kann erweitert werden, indem man neue Elemente ans Ende anfügt:"
   ]
  },
  {
   "cell_type": "code",
   "execution_count": 32,
   "metadata": {},
   "outputs": [
    {
     "name": "stdout",
     "output_type": "stream",
     "text": [
      "['Hans', 'Klara', 'Lisa', 'Mark', 'neuer Student']\n"
     ]
    }
   ],
   "source": [
    "students.append('neuer Student')\n",
    "print(students)"
   ]
  },
  {
   "cell_type": "markdown",
   "metadata": {},
   "source": [
    "Die Funktion `append(element)` ist hier eine vordefinierte _Methode_ des Datentyps `list`. Weitere Methoden sind `insert(position, element)` und `sort()`."
   ]
  },
  {
   "cell_type": "code",
   "execution_count": 33,
   "metadata": {},
   "outputs": [
    {
     "name": "stdout",
     "output_type": "stream",
     "text": [
      "['Gisela', 'Hans', 'Klara', 'Lisa', 'Mark', 'neuer Student']\n"
     ]
    }
   ],
   "source": [
    "students.insert(0, 'Gisela')\n",
    "students.sort()\n",
    "print(students)"
   ]
  },
  {
   "cell_type": "markdown",
   "metadata": {},
   "source": [
    "Listen können durch den `+` Operator verkettet werden. Die Elemente einer Liste müssen nicht alle den gleichen Datentyp haben."
   ]
  },
  {
   "cell_type": "code",
   "execution_count": 34,
   "metadata": {},
   "outputs": [
    {
     "data": {
      "text/plain": [
       "[1, 2, 3, 4, 'Lisa', 'Karl', 3]"
      ]
     },
     "execution_count": 34,
     "metadata": {},
     "output_type": "execute_result"
    }
   ],
   "source": [
    "[1, 2, 3, 4] + [\"Lisa\", 'Karl', 3]"
   ]
  },
  {
   "cell_type": "markdown",
   "metadata": {},
   "source": [
    "Die Länge einer Liste erhält man mit der Methode `len(liste)`:"
   ]
  },
  {
   "cell_type": "code",
   "execution_count": 35,
   "metadata": {},
   "outputs": [
    {
     "data": {
      "text/plain": [
       "6"
      ]
     },
     "execution_count": 35,
     "metadata": {},
     "output_type": "execute_result"
    }
   ],
   "source": [
    "len(students)"
   ]
  },
  {
   "cell_type": "markdown",
   "metadata": {},
   "source": [
    "Eine Übersicht aller Methoden, die von einem Datentyp zur Verfügung gestellt werden, erhalten Sie mit der Funktion `help(object)`:"
   ]
  },
  {
   "cell_type": "code",
   "execution_count": 36,
   "metadata": {},
   "outputs": [
    {
     "name": "stdout",
     "output_type": "stream",
     "text": [
      "Help on list object:\n",
      "\n",
      "class list(object)\n",
      " |  list(iterable=(), /)\n",
      " |\n",
      " |  Built-in mutable sequence.\n",
      " |\n",
      " |  If no argument is given, the constructor creates a new empty list.\n",
      " |  The argument must be an iterable if specified.\n",
      " |\n",
      " |  Methods defined here:\n",
      " |\n",
      " |  __add__(self, value, /)\n",
      " |      Return self+value.\n",
      " |\n",
      " |  __contains__(self, key, /)\n",
      " |      Return bool(key in self).\n",
      " |\n",
      " |  __delitem__(self, key, /)\n",
      " |      Delete self[key].\n",
      " |\n",
      " |  __eq__(self, value, /)\n",
      " |      Return self==value.\n",
      " |\n",
      " |  __ge__(self, value, /)\n",
      " |      Return self>=value.\n",
      " |\n",
      " |  __getattribute__(self, name, /)\n",
      " |      Return getattr(self, name).\n",
      " |\n",
      " |  __getitem__(self, index, /)\n",
      " |      Return self[index].\n",
      " |\n",
      " |  __gt__(self, value, /)\n",
      " |      Return self>value.\n",
      " |\n",
      " |  __iadd__(self, value, /)\n",
      " |      Implement self+=value.\n",
      " |\n",
      " |  __imul__(self, value, /)\n",
      " |      Implement self*=value.\n",
      " |\n",
      " |  __init__(self, /, *args, **kwargs)\n",
      " |      Initialize self.  See help(type(self)) for accurate signature.\n",
      " |\n",
      " |  __iter__(self, /)\n",
      " |      Implement iter(self).\n",
      " |\n",
      " |  __le__(self, value, /)\n",
      " |      Return self<=value.\n",
      " |\n",
      " |  __len__(self, /)\n",
      " |      Return len(self).\n",
      " |\n",
      " |  __lt__(self, value, /)\n",
      " |      Return self<value.\n",
      " |\n",
      " |  __mul__(self, value, /)\n",
      " |      Return self*value.\n",
      " |\n",
      " |  __ne__(self, value, /)\n",
      " |      Return self!=value.\n",
      " |\n",
      " |  __repr__(self, /)\n",
      " |      Return repr(self).\n",
      " |\n",
      " |  __reversed__(self, /)\n",
      " |      Return a reverse iterator over the list.\n",
      " |\n",
      " |  __rmul__(self, value, /)\n",
      " |      Return value*self.\n",
      " |\n",
      " |  __setitem__(self, key, value, /)\n",
      " |      Set self[key] to value.\n",
      " |\n",
      " |  __sizeof__(self, /)\n",
      " |      Return the size of the list in memory, in bytes.\n",
      " |\n",
      " |  append(self, object, /)\n",
      " |      Append object to the end of the list.\n",
      " |\n",
      " |  clear(self, /)\n",
      " |      Remove all items from list.\n",
      " |\n",
      " |  copy(self, /)\n",
      " |      Return a shallow copy of the list.\n",
      " |\n",
      " |  count(self, value, /)\n",
      " |      Return number of occurrences of value.\n",
      " |\n",
      " |  extend(self, iterable, /)\n",
      " |      Extend list by appending elements from the iterable.\n",
      " |\n",
      " |  index(self, value, start=0, stop=9223372036854775807, /)\n",
      " |      Return first index of value.\n",
      " |\n",
      " |      Raises ValueError if the value is not present.\n",
      " |\n",
      " |  insert(self, index, object, /)\n",
      " |      Insert object before index.\n",
      " |\n",
      " |  pop(self, index=-1, /)\n",
      " |      Remove and return item at index (default last).\n",
      " |\n",
      " |      Raises IndexError if list is empty or index is out of range.\n",
      " |\n",
      " |  remove(self, value, /)\n",
      " |      Remove first occurrence of value.\n",
      " |\n",
      " |      Raises ValueError if the value is not present.\n",
      " |\n",
      " |  reverse(self, /)\n",
      " |      Reverse *IN PLACE*.\n",
      " |\n",
      " |  sort(self, /, *, key=None, reverse=False)\n",
      " |      Sort the list in ascending order and return None.\n",
      " |\n",
      " |      The sort is in-place (i.e. the list itself is modified) and stable (i.e. the\n",
      " |      order of two equal elements is maintained).\n",
      " |\n",
      " |      If a key function is given, apply it once to each list item and sort them,\n",
      " |      ascending or descending, according to their function values.\n",
      " |\n",
      " |      The reverse flag can be set to sort in descending order.\n",
      " |\n",
      " |  ----------------------------------------------------------------------\n",
      " |  Class methods defined here:\n",
      " |\n",
      " |  __class_getitem__(...)\n",
      " |      See PEP 585\n",
      " |\n",
      " |  ----------------------------------------------------------------------\n",
      " |  Static methods defined here:\n",
      " |\n",
      " |  __new__(*args, **kwargs)\n",
      " |      Create and return a new object.  See help(type) for accurate signature.\n",
      " |\n",
      " |  ----------------------------------------------------------------------\n",
      " |  Data and other attributes defined here:\n",
      " |\n",
      " |  __hash__ = None\n",
      "\n"
     ]
    }
   ],
   "source": [
    "help(students)"
   ]
  },
  {
   "cell_type": "markdown",
   "metadata": {},
   "source": [
    "__Weitere Datentypen in Python sind `dictionaries`, `tuples` und `sets`, welche wir zu einem späteren Zeitpunkt besprechen werden.__"
   ]
  },
  {
   "cell_type": "markdown",
   "metadata": {},
   "source": [
    "## Steuerkonstrukte: Verzweigungen und Schleifen\n",
    "\n",
    "### If-Anweisung\n",
    "Führen Sie Code nur aus, wenn eine Bedingung erfüllt ist:\n",
    "\n",
    "```python\n",
    "if Bedingung:\n",
    "    Anweisungen\n",
    "```\n",
    "\n",
    "Beispiel:"
   ]
  },
  {
   "cell_type": "code",
   "execution_count": 37,
   "metadata": {},
   "outputs": [
    {
     "name": "stdout",
     "output_type": "stream",
     "text": [
      "5\n",
      "Bedingung erfüllt: 5 == 5\n"
     ]
    }
   ],
   "source": [
    "a = 5\n",
    "if a == 5:\n",
    "    print(a)\n",
    "print(\"Bedingung erfüllt: 5 == 5\")"
   ]
  },
  {
   "cell_type": "markdown",
   "metadata": {},
   "source": [
    "### elif, else-Anweisungen\n",
    "Prüfen Sie mehrere Bedingungen mit `elif`. Nutzen Sie `else`, wenn keine Bedingung erfüllt ist:\n",
    "\n",
    "```python\n",
    "if Bedingung1:\n",
    "    Anweisungen1\n",
    "elif Bedingung2:\n",
    "    Anweisungen2\n",
    "else:\n",
    "    Anweisungen3\n",
    "```"
   ]
  },
  {
   "cell_type": "code",
   "execution_count": 38,
   "metadata": {},
   "outputs": [
    {
     "name": "stdout",
     "output_type": "stream",
     "text": [
      "Wert ist weder vier noch fünf\n"
     ]
    }
   ],
   "source": [
    "value = 8\n",
    "if value == 4:\n",
    "    print(\"Wert ist vier\")\n",
    "elif value == 5:\n",
    "    print(\"Wert ist fünf\")\n",
    "else:\n",
    "    print(\"Wert ist weder vier noch fünf\")"
   ]
  },
  {
   "cell_type": "markdown",
   "metadata": {},
   "source": [
    "### For-Schleifen ([ausführlich](https://www.python-kurs.eu/python3_for-schleife.php))\n",
    "Ein weiteres Konstrukt für die wiederholte Ausführung von Anweisungen bildet die `for`-Schleife. Dabei ähnelt die Syntax der einer `while`-Schleife. Im Unterschied dazu werden die Anweisungen nicht so lange wiederholt bis die Bedingung `False` erzeugt, sondern es wird so oft wiederholt wie ein iterierbares Objekt Elemente besitzt. Iterierbare Objekte sind Listen, Tupel, Arrays, etc. Die Variable nimmt dabei den Wert des jeweiligen Elements der Sequenz an (siehe Beispiele).\n",
    "Besitzt die Sequenz keine Elemente mehr, über die iteriert werden kann, wird die else-Anweisung ausgeführt.\n",
    "\n",
    "`for Variable in Sequenz:\n",
    "\tAnweisung_1\n",
    "\tAnweisung_2\n",
    "\t...\n",
    "\tAnweisung_n\n",
    "else:\n",
    "\tElse-Anweisung_1\n",
    "    ...`\n"
   ]
  },
  {
   "cell_type": "code",
   "execution_count": 39,
   "metadata": {},
   "outputs": [
    {
     "name": "stdout",
     "output_type": "stream",
     "text": [
      "1\n",
      "2\n",
      "3\n"
     ]
    }
   ],
   "source": [
    "for value in [1, 2, 3]:\n",
    "    print(value)"
   ]
  },
  {
   "cell_type": "code",
   "execution_count": 40,
   "metadata": {},
   "outputs": [
    {
     "name": "stdout",
     "output_type": "stream",
     "text": [
      "0\n",
      "1\n",
      "2\n",
      "3\n",
      "4\n"
     ]
    }
   ],
   "source": [
    "for i in range(0, 5):\n",
    "    print(i)"
   ]
  },
  {
   "cell_type": "code",
   "execution_count": 41,
   "metadata": {},
   "outputs": [
    {
     "name": "stdout",
     "output_type": "stream",
     "text": [
      "S\n",
      "t\n",
      "r\n",
      "i\n",
      "n\n",
      "g\n"
     ]
    }
   ],
   "source": [
    "for i in \"String\":\n",
    "    print(i)"
   ]
  },
  {
   "cell_type": "markdown",
   "metadata": {},
   "source": [
    "Oft ist es besser, nicht direkt über das Listenobjekt zu iterieren. Sondern über Indizes des iterierbaren Objekts, die man von der `range()` Funktion erzeugen lässt. Die Länge von Objekten kann man mit der `len(...)` Funktion abfragen lassen. In der `for`-Schleife selber kann man dann wieder über den Index (`[ ]`) auf das Listenobjekt zugreifen."
   ]
  },
  {
   "cell_type": "code",
   "execution_count": 42,
   "metadata": {},
   "outputs": [
    {
     "name": "stdout",
     "output_type": "stream",
     "text": [
      "Der Wert der Liste a an der Stelle 0 lautet 1\n",
      "Der Wert der Liste a an der Stelle 1 lautet 8\n",
      "Der Wert der Liste a an der Stelle 2 lautet 4\n"
     ]
    }
   ],
   "source": [
    "a = [1, 8, 4]\n",
    "length = len(a)\n",
    "for i in range(length):\n",
    "    print(\"Der Wert der Liste a an der Stelle\", i,\"lautet\", a[i])"
   ]
  },
  {
   "cell_type": "markdown",
   "metadata": {},
   "source": [
    "### Verschachtelte Schleifen und Verzweigungen\n",
    "Natürlich können die oben genannten Schleifen und Verzweigungen nach Belieben kombiniert werden."
   ]
  },
  {
   "cell_type": "code",
   "execution_count": 43,
   "metadata": {},
   "outputs": [
    {
     "name": "stdout",
     "output_type": "stream",
     "text": [
      "1 ist ungerade\n",
      "2 ist gerade\n",
      "3 ist ungerade\n"
     ]
    }
   ],
   "source": [
    "a = [1, 2, 3]\n",
    "for i in a:\n",
    "    if i % 2 == 0:\n",
    "        print(i, \"ist gerade\")\n",
    "    else:\n",
    "        print(i, \"ist ungerade\")"
   ]
  },
  {
   "cell_type": "markdown",
   "metadata": {},
   "source": [
    "## Error Meldungen ([ausführlich](https://py-tutorial-de.readthedocs.io/de/latest/errors.html))\n",
    "Wir sind im Laufe dieses Crashkurses schon auf einige Fehlermeldungen gestoßen:\n",
    "\n",
    " - `NameError`: Variable mit dem Namen ist nicht definiert\n",
    " - `KeyError`: im Wörterbuch gibt es keinen passenden Schlüssel\n",
    "\n",
    "Der wahrscheinlich häufigste Fehler in einem Programm ist der sogennante `SyntaxError`. Er wird von der Konsole ausgegeben, wenn der Pythoninterpreter den Code nicht versteht, weil die Syntax falsch ist. Beispiel:"
   ]
  },
  {
   "cell_type": "code",
   "execution_count": 46,
   "metadata": {},
   "outputs": [
    {
     "ename": "SyntaxError",
     "evalue": "expected ':' (3964378094.py, line 1)",
     "output_type": "error",
     "traceback": [
      "  \u001b[36mCell\u001b[39m\u001b[36m \u001b[39m\u001b[32mIn[46]\u001b[39m\u001b[32m, line 1\u001b[39m\n\u001b[31m    \u001b[39m\u001b[31mfor i in range(5)\u001b[39m\n                     ^\n\u001b[31mSyntaxError\u001b[39m\u001b[31m:\u001b[39m expected ':'\n"
     ]
    }
   ],
   "source": [
    "for i in range(5)\n",
    "    print(i)"
   ]
  },
  {
   "cell_type": "markdown",
   "metadata": {},
   "source": [
    "Neben den Syntaxfehlern gibt es weitere Ausnahmen (exceptions). Beispiel: `ZeroDivisionError` wird ausgegeben, wenn durch 0 geteilt wird."
   ]
  },
  {
   "cell_type": "code",
   "execution_count": 47,
   "metadata": {},
   "outputs": [
    {
     "name": "stdout",
     "output_type": "stream",
     "text": [
      "1.6666666666666667\n",
      "2.5\n",
      "5.0\n"
     ]
    },
    {
     "ename": "ZeroDivisionError",
     "evalue": "division by zero",
     "output_type": "error",
     "traceback": [
      "\u001b[31m---------------------------------------------------------------------------\u001b[39m",
      "\u001b[31mZeroDivisionError\u001b[39m                         Traceback (most recent call last)",
      "\u001b[36mCell\u001b[39m\u001b[36m \u001b[39m\u001b[32mIn[47]\u001b[39m\u001b[32m, line 2\u001b[39m\n\u001b[32m      1\u001b[39m \u001b[38;5;28;01mfor\u001b[39;00m i \u001b[38;5;129;01min\u001b[39;00m \u001b[38;5;28mrange\u001b[39m(\u001b[32m3\u001b[39m,-\u001b[32m1\u001b[39m,-\u001b[32m1\u001b[39m):\n\u001b[32m----> \u001b[39m\u001b[32m2\u001b[39m     \u001b[38;5;28mprint\u001b[39m(\u001b[32;43m5\u001b[39;49m\u001b[43m/\u001b[49m\u001b[43mi\u001b[49m)\n",
      "\u001b[31mZeroDivisionError\u001b[39m: division by zero"
     ]
    }
   ],
   "source": [
    "for i in range(3,-1,-1):\n",
    "    print(5/i)"
   ]
  },
  {
   "cell_type": "markdown",
   "metadata": {},
   "source": [
    "Ein `TypeError` tritt auf, wenn eine Funktion einen falschen Datentyp als Argument erhält. Beispiel:"
   ]
  },
  {
   "cell_type": "code",
   "execution_count": 48,
   "metadata": {},
   "outputs": [
    {
     "ename": "TypeError",
     "evalue": "'float' object cannot be interpreted as an integer",
     "output_type": "error",
     "traceback": [
      "\u001b[31m---------------------------------------------------------------------------\u001b[39m",
      "\u001b[31mTypeError\u001b[39m                                 Traceback (most recent call last)",
      "\u001b[36mCell\u001b[39m\u001b[36m \u001b[39m\u001b[32mIn[48]\u001b[39m\u001b[32m, line 1\u001b[39m\n\u001b[32m----> \u001b[39m\u001b[32m1\u001b[39m \u001b[38;5;28;01mfor\u001b[39;00m i \u001b[38;5;129;01min\u001b[39;00m \u001b[38;5;28;43mrange\u001b[39;49m\u001b[43m(\u001b[49m\u001b[32;43m1\u001b[39;49m\u001b[43m,\u001b[49m\u001b[43m \u001b[49m\u001b[32;43m3\u001b[39;49m\u001b[43m,\u001b[49m\u001b[43m \u001b[49m\u001b[32;43m0.1\u001b[39;49m\u001b[43m)\u001b[49m:\n\u001b[32m      2\u001b[39m     \u001b[38;5;28mprint\u001b[39m(i)\n",
      "\u001b[31mTypeError\u001b[39m: 'float' object cannot be interpreted as an integer"
     ]
    }
   ],
   "source": [
    "for i in range(1, 3, 0.1):\n",
    "    print(i)"
   ]
  },
  {
   "cell_type": "markdown",
   "metadata": {},
   "source": [
    "Ein `IndentationError` tritt auf, wenn der Code nicht korrekt eingerückt ist."
   ]
  },
  {
   "cell_type": "code",
   "execution_count": 49,
   "metadata": {},
   "outputs": [
    {
     "ename": "IndentationError",
     "evalue": "unexpected indent (1701487278.py, line 3)",
     "output_type": "error",
     "traceback": [
      "  \u001b[36mCell\u001b[39m\u001b[36m \u001b[39m\u001b[32mIn[49]\u001b[39m\u001b[32m, line 3\u001b[39m\n\u001b[31m    \u001b[39m\u001b[31mprint(i)\u001b[39m\n    ^\n\u001b[31mIndentationError\u001b[39m\u001b[31m:\u001b[39m unexpected indent\n"
     ]
    }
   ],
   "source": [
    "for i in range(1,5):\n",
    "    i += 1\n",
    "     print(i)\n",
    "    print(\"Das ist der letzte Fehler\")"
   ]
  },
  {
   "cell_type": "markdown",
   "metadata": {},
   "source": [
    "__Liste von weiteren [Ausnahmen (exceptions)](https://www.tutorialspoint.com/python/python_exceptions.htm)__"
   ]
  }
 ],
 "metadata": {
  "celltoolbar": "Raw Cell Format",
  "kernelspec": {
   "display_name": "base",
   "language": "python",
   "name": "python3"
  },
  "language_info": {
   "codemirror_mode": {
    "name": "ipython",
    "version": 3
   },
   "file_extension": ".py",
   "mimetype": "text/x-python",
   "name": "python",
   "nbconvert_exporter": "python",
   "pygments_lexer": "ipython3",
   "version": "3.12.8"
  },
  "varInspector": {
   "cols": {
    "lenName": 16,
    "lenType": 16,
    "lenVar": 40
   },
   "kernels_config": {
    "python": {
     "delete_cmd_postfix": "",
     "delete_cmd_prefix": "del ",
     "library": "var_list.py",
     "varRefreshCmd": "print(var_dic_list())"
    },
    "r": {
     "delete_cmd_postfix": ") ",
     "delete_cmd_prefix": "rm(",
     "library": "var_list.r",
     "varRefreshCmd": "cat(var_dic_list()) "
    }
   },
   "types_to_exclude": [
    "module",
    "function",
    "builtin_function_or_method",
    "instance",
    "_Feature"
   ],
   "window_display": false
  }
 },
 "nbformat": 4,
 "nbformat_minor": 4
}
