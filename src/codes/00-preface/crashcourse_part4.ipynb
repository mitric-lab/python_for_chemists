{
 "cells": [
  {
   "cell_type": "markdown",
   "metadata": {},
   "source": [
    "# Functions\n",
    "\n",
    "Functions in Python are fundamental building blocks that allow us to organise code and make it reusable. They can take an arbitrary number of arguments, perform a specific task, and return a result. \n",
    "\n",
    "You already know some built-in functions, such as `print`, `len`, and `range`. Now, we will learn how to define our own functions.\n",
    "\n",
    "## Basic Syntax\n",
    "\n",
    "The basic syntax of a function is as follows:\n",
    "\n",
    "```python\n",
    "def function_name(argument1, argument2, ...):\n",
    "    # code block that uses the arguments\n",
    "    return result # optional\n",
    "```\n",
    "\n",
    "The `def` keyword is used to define a function. The function name is followed by a pair of parentheses that can contain a list of arguments separated by commas. The body of the function that implements the function's behaviour is indented. It is generally good practice to include a docstring in the parentheses, which is a string that describes the function's purpose. The last line of the function is optional and can be used to return a result.\n",
    "\n",
    "Let's look at an example:\n",
    "\n"
   ]
  },
  {
   "cell_type": "code",
   "execution_count": 12,
   "metadata": {},
   "outputs": [],
   "source": [
    "def fibonacci(n):\n",
    "    \"\"\"Print a Fibonacci series up to n.\"\"\"\n",
    "    a, b = 0, 1\n",
    "    while a < n:\n",
    "        print(a, end=' ') # print without newline\n",
    "        a, b = b, a + b"
   ]
  },
  {
   "cell_type": "markdown",
   "metadata": {},
   "source": [
    "Note that code in the function is not executed immediately. Instead, it is only executed when the function is called. This is done using the function name followed by parentheses."
   ]
  },
  {
   "cell_type": "code",
   "execution_count": 13,
   "metadata": {},
   "outputs": [
    {
     "name": "stdout",
     "output_type": "stream",
     "text": [
      "0 1 1 2 3 5 8 13 21 34 55 89 144 233 377 610 987 1597 "
     ]
    }
   ],
   "source": [
    "fibonacci(2000)"
   ]
  },
  {
   "cell_type": "markdown",
   "metadata": {},
   "source": [
    "## Local and Global Variables\n",
    "\n",
    "You might wonder what happens to the variables defined inside a function when the function finishes executing. Let's try:"
   ]
  },
  {
   "cell_type": "code",
   "execution_count": 14,
   "metadata": {},
   "outputs": [
    {
     "ename": "NameError",
     "evalue": "name 'a' is not defined",
     "output_type": "error",
     "traceback": [
      "\u001b[31m---------------------------------------------------------------------------\u001b[39m",
      "\u001b[31mNameError\u001b[39m                                 Traceback (most recent call last)",
      "\u001b[36mCell\u001b[39m\u001b[36m \u001b[39m\u001b[32mIn[14]\u001b[39m\u001b[32m, line 1\u001b[39m\n\u001b[32m----> \u001b[39m\u001b[32m1\u001b[39m \u001b[38;5;28mprint\u001b[39m(\u001b[43ma\u001b[49m)\n",
      "\u001b[31mNameError\u001b[39m: name 'a' is not defined"
     ]
    }
   ],
   "source": [
    "print(a)"
   ]
  },
  {
   "cell_type": "markdown",
   "metadata": {},
   "source": [
    "The reason that this does not work is that variables defined inside a function are *local* variables - they only exist within the function's scope. When the function finishes executing, these local variables are destroyed. In contrast, variables defined outside any function are *global* variables - they can be accessed from anywhere in the code, also within functions.\n",
    "\n",
    "Here's an example to illustrate this:"
   ]
  },
  {
   "cell_type": "code",
   "execution_count": 15,
   "metadata": {},
   "outputs": [
    {
     "name": "stdout",
     "output_type": "stream",
     "text": [
      "98.6\n"
     ]
    }
   ],
   "source": [
    "shift = 32  # global variable\n",
    "\n",
    "def celsius_to_fahrenheit(celsius):\n",
    "    fahrenheit = (celsius * 9/5) + shift\n",
    "    return fahrenheit\n",
    "\n",
    "f = celsius_to_fahrenheit(37)\n",
    "print(f)"
   ]
  },
  {
   "cell_type": "markdown",
   "metadata": {},
   "source": [
    "Here, `shift` is a global variable that is used within the function. In the above example, we could (and should) have given this variable as an argument to the function."
   ]
  },
  {
   "cell_type": "markdown",
   "metadata": {},
   "source": [
    "## Default Arguments\n",
    "\n",
    "Functions can have default arguments. These are arguments that are given a default value if they are not provided when the function is called."
   ]
  },
  {
   "cell_type": "code",
   "execution_count": 16,
   "metadata": {},
   "outputs": [
    {
     "name": "stdout",
     "output_type": "stream",
     "text": [
      "50.0\n",
      "100.0\n"
     ]
    }
   ],
   "source": [
    "def get_kinetic_energy(velocity, mass=1.0):\n",
    "    return 0.5 * mass * velocity**2\n",
    "\n",
    "print(get_kinetic_energy(10))\n",
    "print(get_kinetic_energy(10, 2.0))"
   ]
  },
  {
   "cell_type": "markdown",
   "metadata": {},
   "source": [
    "When a function has multiple default arguments and you want to specify only some of them, you can do so by using the argument name."
   ]
  },
  {
   "cell_type": "code",
   "execution_count": 17,
   "metadata": {},
   "outputs": [
    {
     "name": "stdout",
     "output_type": "stream",
     "text": [
      "454.19381999999996\n"
     ]
    }
   ],
   "source": [
    "def get_ideal_gas_pressure(v, t=273.15, n=1.0, R=8.314):\n",
    "    return n * R * t / v\n",
    "\n",
    "print(get_ideal_gas_pressure(10, n=2.0))"
   ]
  },
  {
   "cell_type": "markdown",
   "metadata": {},
   "source": [
    "When defining a function, the default arguments always have to be at the end of the argument list.\n",
    "\n",
    "**Reminder**: Always name your variables and functions descriptively! Refrain from using single letter variables like `v`, `t`, `n`, as it was done in the example above.\n",
    "\n",
    "## Variable-length Argument Lists\n",
    "\n",
    "Sometimes you may need to define a function that can take a variable number of arguments. The built-in `print` function is an example of this. This can be done using the `*` operator."
   ]
  },
  {
   "cell_type": "code",
   "execution_count": 18,
   "metadata": {},
   "outputs": [
    {
     "name": "stdout",
     "output_type": "stream",
     "text": [
      "15\n"
     ]
    }
   ],
   "source": [
    "def sum_all(*args):\n",
    "    total = 0\n",
    "    for i in args:\n",
    "        total += i\n",
    "    return total\n",
    "\n",
    "print(sum_all(1, 2, 3, 4, 5))"
   ]
  },
  {
   "cell_type": "markdown",
   "metadata": {},
   "source": [
    "You can also use the `*` operator to unpack a list or a tuple into a function call.\n"
   ]
  },
  {
   "cell_type": "code",
   "execution_count": 19,
   "metadata": {},
   "outputs": [
    {
     "name": "stdout",
     "output_type": "stream",
     "text": [
      "15\n"
     ]
    }
   ],
   "source": [
    "numbers = [1, 2, 3, 4, 5]\n",
    "print(sum_all(*numbers))"
   ]
  },
  {
   "cell_type": "markdown",
   "metadata": {},
   "source": [
    "You can do the same with dictionaries by relating the values to the specific keywords, using the `**` operator."
   ]
  },
  {
   "cell_type": "code",
   "execution_count": 44,
   "metadata": {},
   "outputs": [
    {
     "name": "stdout",
     "output_type": "stream",
     "text": [
      "name: John\n",
      "age: 30\n",
      "city: New York\n"
     ]
    }
   ],
   "source": [
    "def print_person_info(**kwargs):\n",
    "    for key, value in kwargs.items():\n",
    "        print(f\"{key}: {value}\")\n",
    "\n",
    "print_person_info(name=\"John\", age=30, city=\"New York\")"
   ]
  },
  {
   "cell_type": "markdown",
   "metadata": {},
   "source": [
    "Note that in both examples, the names of the arguments like `*args` and `**kwargs` are arbitrary. In principle, you can choose any name you want."
   ]
  },
  {
   "cell_type": "markdown",
   "metadata": {},
   "source": [
    "## Multiple Return Values\n",
    "\n",
    "Just like a function can accept multiple arguments, it can also return multiple values. This can be done by comma-separating the values in the `return` statement."
   ]
  },
  {
   "cell_type": "code",
   "execution_count": 20,
   "metadata": {},
   "outputs": [],
   "source": [
    "def get_quadratic_roots(a, b, c):\n",
    "    discriminant = b**2 - 4*a*c\n",
    "    if discriminant < 0:\n",
    "        return None, None\n",
    "    else:\n",
    "        return (-b + discriminant**0.5) / (2*a), (-b - discriminant**0.5) / (2*a)"
   ]
  },
  {
   "cell_type": "markdown",
   "metadata": {},
   "source": [
    "Here, the function returns a tuple containing the two roots. You can unpack this tuple into two variables if you want to store the roots separately."
   ]
  },
  {
   "cell_type": "code",
   "execution_count": 21,
   "metadata": {},
   "outputs": [
    {
     "name": "stdout",
     "output_type": "stream",
     "text": [
      "2.0 1.0\n"
     ]
    }
   ],
   "source": [
    "root1, root2 = get_quadratic_roots(1, -3, 2)\n",
    "print(root1, root2)"
   ]
  },
  {
   "cell_type": "markdown",
   "metadata": {},
   "source": [
    "## Lambda Expressions\n",
    "\n",
    "Lambda expressions are a way to create anonymous functions. They are useful when you need a small function that is used only once."
   ]
  },
  {
   "cell_type": "code",
   "execution_count": 22,
   "metadata": {},
   "outputs": [
    {
     "name": "stdout",
     "output_type": "stream",
     "text": [
      "12\n",
      "12\n"
     ]
    }
   ],
   "source": [
    "def multiply(x, y):\n",
    "    return x * y\n",
    "\n",
    "print(multiply(3, 4))\n",
    "\n",
    "multiply_lambda = lambda x, y: x * y\n",
    "\n",
    "print(multiply_lambda(3, 4))"
   ]
  },
  {
   "cell_type": "markdown",
   "metadata": {},
   "source": [
    "An example of where lambda expressions are useful is when you need to sort a list of tuples by a specific element."
   ]
  },
  {
   "cell_type": "code",
   "execution_count": 23,
   "metadata": {},
   "outputs": [
    {
     "name": "stdout",
     "output_type": "stream",
     "text": [
      "[(5, 0), (3, 1), (1, 2), (4, 4)]\n"
     ]
    }
   ],
   "source": [
    "points = [(1, 2), (3, 1), (5, 0), (4, 4)]\n",
    "points.sort(key=lambda x: x[1])\n",
    "print(points)"
   ]
  },
  {
   "cell_type": "markdown",
   "metadata": {},
   "source": [
    "Here, the `sort` method takes a function as an argument that is used to determine the order of the elements. Instead of defining a function, we can use a lambda expression to specify the sorting criterion directly."
   ]
  },
  {
   "cell_type": "markdown",
   "metadata": {},
   "source": [
    "## Type Hints\n",
    "\n",
    "Type hints are a way to specify the type of the arguments and return value of a function. They are optional, but can be useful to catch errors at an early stage."
   ]
  },
  {
   "cell_type": "code",
   "execution_count": 24,
   "metadata": {},
   "outputs": [
    {
     "name": "stdout",
     "output_type": "stream",
     "text": [
      "2\n",
      "2\n"
     ]
    }
   ],
   "source": [
    "def get_index(sequence: list[int], element: int) -> int:\n",
    "    \"\"\"Get the index of an element in a sequence.\"\"\"\n",
    "    for i, value in enumerate(sequence):\n",
    "        if value == element:\n",
    "            return i\n",
    "    raise ValueError(f\"Element {element} not found in sequence\")\n",
    "\n",
    "sequence = [1, 2, 3, 4, 5]\n",
    "print(get_index(sequence, 3))\n",
    "print(sequence.index(3)) # Short-hand for the above"
   ]
  },
  {
   "cell_type": "markdown",
   "metadata": {},
   "source": [
    "## Recursion\n",
    "\n",
    "Let's turn back to the first example. Computing the Fibonacci sequence is a classic example where recursion can be applied. Recursion means a function calls itself. In the Fibonacci sequence, each number is the sum of the two preceding ones. This structure allows us to define a function that computes a Fibonacci number by recursively calling itself to find the two previous numbers."
   ]
  },
  {
   "cell_type": "code",
   "execution_count": 25,
   "metadata": {},
   "outputs": [],
   "source": [
    "def fibonacci(n):\n",
    "    \"\"\"Compute the n-th Fibonacci number.\"\"\"\n",
    "    if n <= 1:\n",
    "        return n\n",
    "    else:\n",
    "        return fibonacci(n-1) + fibonacci(n-2)"
   ]
  },
  {
   "cell_type": "code",
   "execution_count": 27,
   "metadata": {},
   "outputs": [
    {
     "name": "stdout",
     "output_type": "stream",
     "text": [
      "1597\n"
     ]
    }
   ],
   "source": [
    "print(fibonacci(17))"
   ]
  }
 ],
 "metadata": {
  "kernelspec": {
   "display_name": "base",
   "language": "python",
   "name": "python3"
  },
  "language_info": {
   "codemirror_mode": {
    "name": "ipython",
    "version": 3
   },
   "file_extension": ".py",
   "mimetype": "text/x-python",
   "name": "python",
   "nbconvert_exporter": "python",
   "pygments_lexer": "ipython3",
   "version": "3.12.8"
  }
 },
 "nbformat": 4,
 "nbformat_minor": 2
}
