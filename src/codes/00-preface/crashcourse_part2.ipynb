{
 "cells": [
  {
   "cell_type": "markdown",
   "metadata": {},
   "source": [
    "# Crashkurs: Numerisches Programmieren\n",
    "\n",
    "Der folgende Inhalt orientiert sich stark an dem Buch \"Numerisches Python: Arbeiten mit NumPy, Matplotlib und Pandas\" von Bernd Klein. \n",
    "\n",
    "Der Ausdruck „numerische Methoden“ – auch bekannt unter dem Begriff „wissenschaftliches Programmieren“ – ist irreführend. Man könnte es als eine Programmierung ansehen, die mit Zahlen statt mit z.B. Texten zu tun hat. Letztendlich haben die meisten Programme, auch wenn sie scheinbar nichts mit Zahlen zu tun haben, einen numerischen Kern. Unter numerischer Programmierung bzw. numerischen Methoden der Programmierung versteht man das Gebiet der Informatik und der Mathematik, in dem es um Approximationsalgorithmen geht, d.h. die numerische Approximation von mathematischen Problemen oder numerischer Analysis. \n",
    "\n",
    "Da Python ein universelle Programmiersprache ist, lässt sie sich natürlich auch zum Lösen numerischer Probleme einsetzen. So weit so gut, aber die Crux bei der Sache liegt in der Laufzeit und auch im Speicherverbrauch. Nutzen wir Python jedoch in Kombination mit seinen Modulen [NumPy](https://numpy.org), [SciPy](https://www.scipy.org), [Matplotlib](https://matplotlib.org) und [Pandas](https://pandas.pydata.org), dann gehört die Sprache zu den führenden numerischen Programmiersprachen. Dadurch wird es möglich in Python effiziente numerische Algorithmen zu implementieren. Der Grund liegt darin, dass die zugrundeliegenden Matrixoperationen und Algorithmen von Modulen wie NumPy in Programmiersprachen wie Fortran oder C implementiert sind. \n",
    "\n",
    "NumPy ist ein Modul, welches die grundlegenden Datenstrukturen zur Verfügung stellt, die auch von Matplotlib, SciPy und Pandas benutzt werden. NumPy implementiert mehrdimensionale Arrays und Matrizen. Außerdem gibt es den Nutzerinnen und Nutzern auch die wesentlichen Funktionalitäten an die Hand, mit denen sich diese Datenstrukturen erzeugen und manipulieren lassen.\n",
    "\n",
    "SciPy baut auf NumPy auf, d.h. es benutzt die Datenstrukturen, die NumPy bereitstellt. Es erweitert die Leistungsfähigkeit von NumPy mit weiteren nützlichen Funktionalitäten wie beispielsweise Minimierung, Regression, Fourier-Transformation und viele andere.\n",
    "\n",
    "Die von Python-Programmen - mit oder ohne Verwendung von NumPy und SciPy – erzeugten Daten möchte man häufig gerne grafisch darstellen. Für diesen Zweck wurde das Modul Matplotlib geschaffen.\n",
    "\n",
    "Das jüngste Kind in dieser Modulfamilie ist Pandas. Wir werden es zu einem späteren Zeitpunkt kennenlernen."
   ]
  },
  {
   "cell_type": "markdown",
   "metadata": {},
   "source": [
    "## NumPy\n",
    "\n",
    "Der Name NumPy stellt ein Akronym für den englischen Begriff „Numerical Python“ dar. Bei dem NumPy-Modul wurde von Anfang an besonderer Wert auf speicherschonende und schnelle Implementierungen gelegt. Dadurch wird sichergestellt, dass die kompilierten mathematischen und numerischen Funktionen und Funktionalitäten eine größtmögliche Ausführungsgeschwindigkeit garantieren. Python wird damit um mächtige Datenstrukturen erweitert und bereichert, die das effiziente Rechnen mit großen Arrays und Matrizen ermöglichen. Ferner bietet das Modul eine riesige Anzahl von hochwertigen mathematischen Funktionen, um mit diesen Matrizen und Arrays zu arbeiten.\n",
    "\n",
    "Wie bei allen anderen Modulen müssen wir auch NumPy importieren, bevor wir mit dem Modul arbeiten können."
   ]
  },
  {
   "cell_type": "code",
   "execution_count": null,
   "metadata": {},
   "outputs": [],
   "source": [
    "import numpy"
   ]
  },
  {
   "cell_type": "markdown",
   "metadata": {},
   "source": [
    "NumPy wird aber nur selten in dieser Form importiert. Meistens wird es beim Import in `np` umbenannt:"
   ]
  },
  {
   "cell_type": "code",
   "execution_count": null,
   "metadata": {},
   "outputs": [],
   "source": [
    "import numpy as np"
   ]
  },
  {
   "cell_type": "markdown",
   "metadata": {},
   "source": [
    "In unserem ersten einfachen NumPy-Beispiel geht es um Temperaturen. Wir definieren eine Liste mit Temperaturwerten in Celsius:"
   ]
  },
  {
   "cell_type": "code",
   "execution_count": null,
   "metadata": {},
   "outputs": [],
   "source": [
    "cvalues = [20.1, 20.8, 21.9, 22.5, 22.7, 21.8, 21.3, 20.9, 20.1]"
   ]
  },
  {
   "cell_type": "markdown",
   "metadata": {},
   "source": [
    "Aus unserer Liste cvalues erzeugen wir nun ein eindimensionales NumPy-Array:"
   ]
  },
  {
   "cell_type": "code",
   "execution_count": null,
   "metadata": {},
   "outputs": [],
   "source": [
    "C = np.array(cvalues)\n",
    "print(C, type(C))"
   ]
  },
  {
   "cell_type": "markdown",
   "metadata": {},
   "source": [
    "Nun wollen wir die obigen Temperaturwerte in Grad Fahrenheit umrechnen.\n",
    "Dies kann sehr einfach mit einem NumPy-Array bewerkstelligt werden. Die Lösung unseres Problems besteht in einfachen skalaren Operationen:"
   ]
  },
  {
   "cell_type": "code",
   "execution_count": null,
   "metadata": {},
   "outputs": [],
   "source": [
    "C * 9 / 5 + 32"
   ]
  },
  {
   "cell_type": "markdown",
   "metadata": {},
   "source": [
    "Das Array C selbst wurde dabei jedoch nicht verändert:"
   ]
  },
  {
   "cell_type": "code",
   "execution_count": null,
   "metadata": {},
   "outputs": [],
   "source": [
    "C"
   ]
  },
  {
   "cell_type": "markdown",
   "metadata": {},
   "source": [
    "Verglichen zu diesem Vorgehen stellt sich die Python-Lösung, d.h. eine leere Liste zu definieren, über diese zu iterieren und jedes Element zu verändern, als umständlich und schreibintensiv dar!"
   ]
  },
  {
   "cell_type": "code",
   "execution_count": null,
   "metadata": {},
   "outputs": [],
   "source": [
    "fahrenheit_c = []\n",
    "for value in cvalues:\n",
    "    new_value = value * 9/5 + 32\n",
    "    fahrenheit_c.append(new_value)\n",
    "fahrenheit_c"
   ]
  },
  {
   "cell_type": "markdown",
   "metadata": {},
   "source": [
    "Warum nimmt man nicht einfach die Liste cvalues und führt die skalaren Operationen durch? Man könnte es ausprobieren. Python enttäuscht uns aber mit einer Fehlermeldung. "
   ]
  },
  {
   "cell_type": "code",
   "execution_count": null,
   "metadata": {},
   "outputs": [],
   "source": [
    "cvalues * 9 / 5 + 32"
   ]
  },
  {
   "cell_type": "markdown",
   "metadata": {},
   "source": [
    "Nun wird es klar, dass diese angenehme Weise, alle Daten in einem Array elementweise durch skalare Operationen zu manipulieren für Listen nicht implementiert ist. Der Operator `*` zwischen einer Liste und einem Integer ist aber in Python definiert. Die Operation macht aber nicht unbedingt das, was Sie gerade denken..."
   ]
  },
  {
   "cell_type": "code",
   "execution_count": null,
   "metadata": {},
   "outputs": [],
   "source": [
    "test_list = [1, 6, 8, 3, 7]\n",
    "print(test_list * 2)"
   ]
  },
  {
   "cell_type": "markdown",
   "metadata": {},
   "source": [
    "Wir haben bisher C als ein Array bezeichnet. Die interne Typbezeichnung lautet jedoch ndarray oder noch genauer „C ist eine Instanz der Klasse numpy.ndarray“:"
   ]
  },
  {
   "cell_type": "code",
   "execution_count": null,
   "metadata": {},
   "outputs": [],
   "source": [
    "type(C)"
   ]
  },
  {
   "cell_type": "markdown",
   "metadata": {},
   "source": [
    "Die Begriffe „Array“ und „ndarray“ werden meistens synonym verwenden."
   ]
  },
  {
   "cell_type": "markdown",
   "metadata": {},
   "source": [
    "Im Folgenden wollen wir auf ein paar wichtige NumPy-Funktionalitäten eingehen.\n",
    "NumPy bietet Funktionen, um Intervalle mit Werten zu erzeugen, deren Abstände gleichmäßig  verteilt sind. `arange` benutzt einen gegebenen Abstandswert, um innerhalb von gegebenen Intervallgrenzen entsprechende Werte zu generieren, während `linspace` eine bestimmte Anzahl von Werten innerhalb gegebener Intervallgrenzen berechnet. Den Abstand berechnet ` linspace` automatisch.\n",
    "\n",
    "### Erzeugung äquidistanter Intervalle\n",
    "\n",
    "Die Syntax von `arange`:\n",
    "```\n",
    "arange([start,] stop[, step], [, dtype=None])\n",
    "```\n",
    "`arange` liefert gleichmäßig verteilte Werte innerhalb eines gegebenen Intervalls zurück. Die Werte werden innerhalb des halb-offenen Intervalls `[start, stop)` generiert. Wird diese Funktion mit Integer-Werten benutzt, ist sie beinahe äquivalent zu der built-in Python-Funktion `range`. `arange` liefert jedoch ein `ndarray` zurück, während `range` einen Listen-Iterator zurückliefert. Falls der start-Parameter nicht übergeben wird, wird `start` auf 0 gesetzt. Das Ende des Intervalls wird durch den Parameter `stop` bestimmt. Üblicherweise wird das Intervall diesen Wert nicht beinhalten – außer in den Fällen, in denen `step` keine Ganzzahl ist und floating-point-Effekte die Länge des Ausgabearrays beeinflussen. Der Abstand zwischen zwei benachbarten Werten des Ausgabearrays kann mittels des optionalen Parameters `step` gesetzt werden. Der Default-Wert für `step` ist 1.\n",
    "\n",
    "Falls ein Wert für `step` angegeben wird, kann der `start`-Parameter nicht mehr optional sein, d.h. er muss dann auch angegeben werden. Der Type des Ausgabearrays kann mit dem Parameter `dtype` bestimmt werden. Wird er nicht angegeben, wird der Typ automatisch aus den übergebenen Eingabewerten ermittelt."
   ]
  },
  {
   "cell_type": "code",
   "execution_count": null,
   "metadata": {},
   "outputs": [],
   "source": [
    "import numpy as np\n",
    "a = np.arange(1, 7)\n",
    "print(\"a: \", a)\n",
    "# im Vergleich dazu nun range:\n",
    "x = range(1, 7)\n",
    "print(\"x: \", x) # x ist ein Iterator \n",
    "print(\"x as list: \", list(x))\n",
    "\n",
    "# weitere arange-Beispiele:\n",
    "a1 = np.arange(7.3) \n",
    "print(\"a1: \", a1)\n",
    "a2 = np.arange(0.5, 6.1, 0.8)\n",
    "print(\"a2: \", a2)\n",
    "a3 = np.arange(0.5, 6.1, 0.8, int)\n",
    "print(\"a3: \", a3)"
   ]
  },
  {
   "cell_type": "markdown",
   "metadata": {},
   "source": [
    "Die Syntax von `linspace`:\n",
    "```\n",
    "linspace(start, stop, num=50, endpoint=True)\n",
    "```\n",
    "`linspace` liefert ein `ndarray` zurück, welches aus `num` gleichmäßig verteilten Werten aus dem geschlossenen Intervall `[start, stop]` oder dem halb-offenen Intervall `[start, stop)` besteht. Ob ein geschlossenes oder ein halb-offenes Intervall zurückgeliefert wird, hängt vom Wert des Parameters `endpoint` ab. stop ist der letzte Wert des Intervalls, falls `endpoint` nicht auf `False` gesetzt ist. Die Schrittweite ist unterschiedlich, je nachdem, ob endpoint `True` oder `False` ist:"
   ]
  },
  {
   "cell_type": "code",
   "execution_count": null,
   "metadata": {},
   "outputs": [],
   "source": [
    "import numpy as np\n",
    "\n",
    "# 50 Werte (Default) zwischen 1 und 10:\n",
    "print(np.linspace(1, 10))\n",
    "\n",
    "# 7 Werte zwischen 1 und 10: print(np.linspace(1, 10, 7))\n",
    "# jetzt ohne Endpunkt:\n",
    "print(np.linspace(1, 10, 7, endpoint=False))"
   ]
  },
  {
   "cell_type": "markdown",
   "metadata": {},
   "source": [
    "### Eindimensionale Arrays\n",
    "Wir haben bereits in unserem anfänglichen Beispiel ein eindimensionales Array – besser als Vektoren bekannt – gesehen. Was wir bis jetzt noch nicht erwähnt haben, aber was Sie sich sicherlich bereits gedacht haben, ist die Tatsache, dass die NumPy-Arrays Container sind, die nur einen Typ enthalten können, also beispielsweise nur Integers. Den homogenen Datentyp eines Arrays können wir mit dem Attribut dtype bestimmen, wie wir im folgenden Beispiel lernen können:"
   ]
  },
  {
   "cell_type": "code",
   "execution_count": null,
   "metadata": {},
   "outputs": [],
   "source": [
    "F = np.array([1, 1, 2, 3, 5, 8, 13, 21])\n",
    "V = np.array([3.4, 6.9, 99.8, 12.8]) \n",
    "print(\"F: \", F)\n",
    "print(\"V: \", V)\n",
    "print(\"Typ von F: \", F.dtype)\n",
    "print(\"Typ von V: \", V.dtype)\n",
    "print(\"Dimension von F: \", np.ndim(F))\n",
    "print(\"Dimension von V: \", np.ndim(V))"
   ]
  },
  {
   "cell_type": "markdown",
   "metadata": {},
   "source": [
    "### Zwei- und Mehrdimensionale Arrays\n",
    "Natürlich sind die Arrays in NumPy nicht auf eine Dimension beschränkt. Sie können eine beliebige Dimension haben. Wir erzeugen sie, indem wir verschachtelte Listen (oder Tupel) an die array-Methode von NumPy übergeben:"
   ]
  },
  {
   "cell_type": "code",
   "execution_count": null,
   "metadata": {},
   "outputs": [],
   "source": [
    "A = np.array([ [3.4, 8.7, 9.9], [1.1, -7.8, -0.7], [4.1, 12.3, 4.8] ])\n",
    "print(\"A: \", A)\n",
    "print(\"Zahl der Dimensionen von A: \", A.ndim)"
   ]
  },
  {
   "cell_type": "markdown",
   "metadata": {},
   "source": [
    "### Gestalt eines Arrays (shape)\n",
    "\n",
    "Die Funktion `shape` liefert die Größe bzw. die Gestalt eines Arrays in Form eines Integer- Tupels zurück. Diese Zahlen bezeichnen die Längen der entsprechenden Array-Dimensionen, d.h. im zweidimensionalen Fall den Zeilen und Spalten. In anderen Worten: Die Gestalt oder Shape eines Arrays ist ein Tupel mit der Anzahl der Elemente pro Achse (Dimension). In unserem Beispiel ist `shape` gleich (6, 3). Das bedeutet, dass wir sechs Zeilen und drei Spalten haben."
   ]
  },
  {
   "cell_type": "code",
   "execution_count": null,
   "metadata": {},
   "outputs": [],
   "source": [
    "x = np.array([\n",
    "                [67, 63, 87],\n",
    "                [77, 69, 59],\n",
    "                [85, 87, 99],\n",
    "                [79, 72, 71],\n",
    "                [63, 89, 93],\n",
    "                [68, 92, 78]])\n",
    "print(np.shape(x))\n",
    "# Oder als Eigenschaft des Arrays\n",
    "print(x.shape)"
   ]
  },
  {
   "cell_type": "markdown",
   "metadata": {},
   "source": [
    "Die Gestalt eines Arrays sagt uns auch etwas über die Reihenfolge, in der die Indizes ausgeführt werden, d.h. zuerst die Zeilen, dann die Spalten und dann gegebenenfalls eine weitere Dimension oder weitere Dimensionen.\n",
    "`shape` kann auch dazu genutzt werden, die „Shape“ eines Arrays zu ändern:"
   ]
  },
  {
   "cell_type": "code",
   "execution_count": null,
   "metadata": {},
   "outputs": [],
   "source": [
    "x.shape = (3, 6)\n",
    "print(x)\n",
    "x.shape = (2, 9) \n",
    "print(x)"
   ]
  },
  {
   "cell_type": "markdown",
   "metadata": {},
   "source": [
    "Die neue Shape muss der Anzahl der Elemente des Arrays entsprechen, d.h. die totale Größe des neuen Arrays muss die gleiche wie die alte sein. Eine Ausnahme wird erhoben, wenn dies nicht der Fall ist, wenn man in unserem Fall zum Beispiel folgendes eingibt:"
   ]
  },
  {
   "cell_type": "code",
   "execution_count": null,
   "metadata": {},
   "outputs": [],
   "source": [
    "x.shape = (4, 4)"
   ]
  },
  {
   "cell_type": "markdown",
   "metadata": {},
   "source": [
    "### Indizierung von NumPy Arrays\n",
    "Der Zugriff oder die Zuweisung an die Elemente eines Arrays funktioniert ähnlich wie bei den sequentiellen Datentypen von Python, d.h. den Listen und Tupeln. Außerdem haben wir verschiedene Möglichkeiten zu indizieren. Dies macht das Indizieren in NumPy sehr mächtig und ähnlich zum Indizieren und dem Teilbereichsoperator der Listen.\n",
    "Das Indizieren einzelner Elemente funktioniert so, wie es die meisten wahrscheinlich erwarten:"
   ]
  },
  {
   "cell_type": "code",
   "execution_count": null,
   "metadata": {},
   "outputs": [],
   "source": [
    "F = np.array([1, 1, 2, 3, 5, 8, 13, 21]) # Ausgabe des ersten Elements von F \n",
    "print(F[0])\n",
    "# Ausgabe letztes Element von F \n",
    "print(F[-1])"
   ]
  },
  {
   "cell_type": "markdown",
   "metadata": {},
   "source": [
    "Mehrdimensionale Arrays können auf zwei unterschiedliche Weisen indiziert werden:"
   ]
  },
  {
   "cell_type": "code",
   "execution_count": null,
   "metadata": {},
   "outputs": [],
   "source": [
    "A = np.array([[3.4, 8.7, 9.9], \n",
    "              [1.1, -7.8, -0.7], \n",
    "              [4.1, 12.3, 4.8]])\n",
    "print(A[1][0])\n",
    "# oder\n",
    "print(A[1, 0])"
   ]
  },
  {
   "cell_type": "code",
   "execution_count": null,
   "metadata": {},
   "outputs": [],
   "source": [
    "B = np.array([[[111, 112], [121, 122]], \n",
    "              [[211, 212], [221, 222]],\n",
    "              [[311, 312], [321, 322]]])\n",
    "print(B[0][1][0])\n",
    "# oder\n",
    "print(B[0, 1, 0])"
   ]
  },
  {
   "cell_type": "markdown",
   "metadata": {},
   "source": [
    "Für `A` haben wir auf das Element in der zweiten Zeile, d.h. die Zeile mit dem Index 1, und der ersten Spalte (Index 0) zugegriffen. Auf dieses Element haben wir in der gleichen Art zugegriffen, wie wir mit einem Element in einer verschachtelten Python-Liste verfahren wären.\n",
    "Man muss der Tatsache bewusst sein, dass die zweite Art (nur eine Klammer mit Kommas) prinzipiell effizienter ist. Im ersten Fall erzeugen wir als Zwischenschritt ein Array A[1], in dem wir dann auf das Element mit dem Index 0 zugreifen. Dies entspricht in etwa dem Folgenden:"
   ]
  },
  {
   "cell_type": "code",
   "execution_count": null,
   "metadata": {},
   "outputs": [],
   "source": [
    "tmp = A[1]\n",
    "print(tmp) # Zeile 2 von A\n",
    "print(tmp[0]) # Erstes Element von Zeile 2 von A"
   ]
  },
  {
   "cell_type": "markdown",
   "metadata": {},
   "source": [
    "Die Verwendung von Teilbereichsoperatoren (slicing) sind im prinzipiell sehr ähnlich zu denen von normalen Python Listen und Tupeln.\n",
    "Das englische Verb „to slice“ bedeutet in Deutsch „schneiden“ oder auch „in Scheiben schneiden“. Letztere Bedeutung entspricht auch der Arbeitsweise des Teilbereichsoperators in Python und NumPy. Man schneidet sich gewissermaßen eine „Scheibe“ aus einem sequentiellen Datentyp oder einem Array heraus.\n",
    "Die Syntax in NumPy ist analog zu der von Standard-Python im Falle von eindimensionalen Arrays. Allerdings können wir „Slicing“ auch auf mehrdimensionale Arrays anwenden.\n",
    "Die allgemeine Syntax für den eindimensionalen Fall lautet wie folgt:\n",
    "```\n",
    "[start:stop:step]\n",
    "```\n",
    "Wir demonstrieren die Arbeitsweise des Teilbereichsoperators an einigen Beispielen. Wir beginnen mit dem einfachsten Fall, also dem eindimensionalen Array:"
   ]
  },
  {
   "cell_type": "code",
   "execution_count": null,
   "metadata": {
    "scrolled": true
   },
   "outputs": [],
   "source": [
    "S = np.array([0, 1, 2, 3, 4, 5, 6, 7, 8, 9])\n",
    "print(S[2:5])\n",
    "print(S[:4])\n",
    "print(S[6:])\n",
    "print(S[:])"
   ]
  },
  {
   "cell_type": "markdown",
   "metadata": {},
   "source": [
    "Die Anwendung des Teilbereichsoperators auf mehrdimensionale Arrays illustrieren wir in den folgenden Beispielen. Die Bereiche für jede Dimension werden durch Kommas getrennt:"
   ]
  },
  {
   "cell_type": "code",
   "execution_count": null,
   "metadata": {},
   "outputs": [],
   "source": [
    "A = np.array([[11, 12, 13, 14, 15], \n",
    "              [21, 22, 23, 24, 25], \n",
    "              [31, 32, 33, 34, 35], \n",
    "              [41, 42, 43, 44, 45], \n",
    "              [51, 52, 53, 54, 55]])\n",
    "print(A[:3, 2:])"
   ]
  },
  {
   "cell_type": "markdown",
   "metadata": {},
   "source": [
    "<img src=\"http://jhoche.de/numpy_1.png\" width=\"250\" height=\"300\">"
   ]
  },
  {
   "cell_type": "code",
   "execution_count": null,
   "metadata": {},
   "outputs": [],
   "source": [
    "print(A[3:, :])"
   ]
  },
  {
   "cell_type": "markdown",
   "metadata": {},
   "source": [
    "<img src=\"http://jhoche.de/numpy_2.png\" width=\"250\" height=\"300\">"
   ]
  },
  {
   "cell_type": "code",
   "execution_count": null,
   "metadata": {},
   "outputs": [],
   "source": [
    "print(A[:, 4:])"
   ]
  },
  {
   "cell_type": "markdown",
   "metadata": {},
   "source": [
    "<img src=\"http://jhoche.de/numpy_3.png\" width=\"250\" height=\"300\">"
   ]
  },
  {
   "cell_type": "markdown",
   "metadata": {},
   "source": [
    "Die folgenden beiden Beispiele benutzten auch noch den dritten Parameter `step`. Die `reshape`-Funktion benutzen wir, um ein eindimensionales Array in ein zweidimensionales zu wandeln. Wir werden `reshape` im folgenden Unterkapitel erklären:"
   ]
  },
  {
   "cell_type": "code",
   "execution_count": null,
   "metadata": {},
   "outputs": [],
   "source": [
    "X = np.arange(28).reshape(4, 7)\n",
    "print(X)"
   ]
  },
  {
   "cell_type": "code",
   "execution_count": null,
   "metadata": {},
   "outputs": [],
   "source": [
    "print(X[::2, ::3])"
   ]
  },
  {
   "cell_type": "markdown",
   "metadata": {},
   "source": [
    "<img src=\"http://jhoche.de/numpy_4.png\" width=\"380\" height=\"300\">"
   ]
  },
  {
   "cell_type": "code",
   "execution_count": null,
   "metadata": {},
   "outputs": [],
   "source": [
    "print(X[::, ::3])"
   ]
  },
  {
   "cell_type": "markdown",
   "metadata": {},
   "source": [
    "<img src=\"http://jhoche.de/numpy_5.png\" width=\"380\" height=\"300\">"
   ]
  },
  {
   "cell_type": "markdown",
   "metadata": {},
   "source": [
    "Falls die Zahl der Objekte in dem Auswahltupel kleiner als die Dimension N ist, dann wird „:“ (alle Elemente) für die weiteren, nicht angegebenen Dimensionen angenommen:"
   ]
  },
  {
   "cell_type": "code",
   "execution_count": null,
   "metadata": {},
   "outputs": [],
   "source": [
    "print(X[::2])"
   ]
  },
  {
   "cell_type": "markdown",
   "metadata": {},
   "source": [
    "<img src=\"http://jhoche.de/numpy_6.png\" width=\"380\" height=\"300\">"
   ]
  },
  {
   "cell_type": "markdown",
   "metadata": {},
   "source": [
    "**Achtung**: Während der Teilbereichsoperator bei Listen und Tupel neue Objekte erzeugt, generiert er bei NumPy nur eine Sicht (englisch: „view“) auf das Originalarray. Dadurch erhalten wir eine andere Möglichkeit, das Array anzusprechen, oder besser: einen Teil des Arrays. Daraus folgt, dass wenn wir etwas in einer Sicht verändern, wir auch das Originalarray verändern:"
   ]
  },
  {
   "cell_type": "code",
   "execution_count": null,
   "metadata": {},
   "outputs": [],
   "source": [
    "A = np.array([0, 1, 2, 3, 4, 5, 6, 7, 8, 9]) \n",
    "S = A[2:6]\n",
    "S[0] = 22\n",
    "S[1] = 23\n",
    "print(A)"
   ]
  },
  {
   "cell_type": "markdown",
   "metadata": {},
   "source": [
    "Wenn wir das analog bei Listen tun, sehen wir, dass wir eine Kopie erhalten. Genau genommen müssten wir sagen, eine flache Kopie."
   ]
  },
  {
   "cell_type": "code",
   "execution_count": null,
   "metadata": {},
   "outputs": [],
   "source": [
    "lst = [0, 1, 2, 3, 4, 5, 6, 7, 8, 9]\n",
    "lst2 = lst[2:6]\n",
    "lst2[0] = 22\n",
    "lst2[1] = 23\n",
    "print(lst)"
   ]
  },
  {
   "cell_type": "markdown",
   "metadata": {},
   "source": [
    "### Gestalt eines Arrays ändern\n",
    "\n",
    "Wir habe schon kennengelernt, dass man durch die Änderung des Attributes `shape` die Gestalt eines Arrays ändern kann. Generell ist es aber davon abzuraten, Attribute eines Objekts (wie z.B. `shape` in `x.shape`) direkt zu verändern. Für `shape` gibt es die Funktion/Methode `reshape`, die diese Aufgabe erledigt. Beachten Sie, dass dabei keine Kopie erstellt wird."
   ]
  },
  {
   "cell_type": "code",
   "execution_count": null,
   "metadata": {},
   "outputs": [],
   "source": [
    "x = np.array([[67, 63, 87],\n",
    "              [77, 69, 59],\n",
    "              [85, 87, 99],\n",
    "              [79, 72, 71],\n",
    "              [63, 89, 93],\n",
    "              [68, 92, 78]])\n",
    "y1 = np.reshape(x, (2, 9))\n",
    "y2 = x.reshape((2, 9))\n",
    "\n",
    "print(\"Umgeformter Array y1: \", y1)\n",
    "print(\"Umgeformter Array y2: \", y2)\n",
    "print(\"Ursprünglicher Array x: \", x)"
   ]
  },
  {
   "cell_type": "markdown",
   "metadata": {},
   "source": [
    "Man muss dabei die Dimension des Arrays nicht beibehalten."
   ]
  },
  {
   "cell_type": "code",
   "execution_count": null,
   "metadata": {},
   "outputs": [],
   "source": [
    "z = x.reshape((3, 3, 2))\n",
    "print(z)\n",
    "\n",
    "print(\"Dimension von x: \", x.ndim)\n",
    "print(\"Dimension von z: \", z.ndim)"
   ]
  },
  {
   "cell_type": "markdown",
   "metadata": {},
   "source": [
    "Manchmal kennt man die Länge einer Dimension des Arrays nicht, bzw. möchte diese nicht erst ausrechnen. Solange die Länge von nur einer Dimension fehlt, kann `reshape` diese selbst herausfinden. Dafür schreibt man einfach `-1` als Platzhalter hin."
   ]
  },
  {
   "cell_type": "code",
   "execution_count": null,
   "metadata": {},
   "outputs": [],
   "source": [
    "x.reshape((3, -1, 2))"
   ]
  },
  {
   "cell_type": "markdown",
   "metadata": {},
   "source": [
    "Sehr häufig möchte man mehrdimensionale Arrays in 1D-Arrays umwandeln. Dafür kann man zwar `reshape` verwenden, es gibt aber zwei Extra-Methoden, um diese Aufgabe zu erledigen: `flatten` und `ravel`. Während `flatten` eine Kopie des Arrays ausgibt, liefert `ravel` nur eine Ansicht."
   ]
  },
  {
   "cell_type": "code",
   "execution_count": null,
   "metadata": {},
   "outputs": [],
   "source": [
    "x_1d = x.reshape(18)  # alternativ auch mit x.reshape(-1)\n",
    "flattened_x = x.flatten()\n",
    "raveled_x = x.ravel()\n",
    "\n",
    "print(x_1d)\n",
    "print(flattened_x)\n",
    "print(raveled_x)"
   ]
  },
  {
   "cell_type": "markdown",
   "metadata": {},
   "source": [
    "### Lineare Algebra\n",
    "\n",
    "Sie fragen Sich bestimmt schon die ganze Zeit, warum hier immer von 1D-Arrays und 2D-Arrays die Rede ist, wenn die doch einfach Vektoren und Matrizen in der linearen Albegra sind. Es stimmt zwar, dass die Strukturen dieser Arrays an Vektoren und Matrizen erinnern, diese jedoch erstmals Datenstrukturen sind. Diese Datenstrukturen eigenen sich aber besonders gut, um Vektoren und Matrizen darzustellen. In diesem Kapitel sollen die wichtigsten Funktionen in NumPy zur linearen Algebra vorgestellt werden. "
   ]
  },
  {
   "cell_type": "markdown",
   "metadata": {},
   "source": [
    "Eine der wichtigsten Funktion der linearen Algebra ist wohl das Skalarprodukt. Dieses umfasst das Skalarprodukt zweier Vektoren, das Produkt aus einer Matrix und einem Vektor, das Produkt zweier Matrizen sowie die höherdimensionale Analogon. In englischen Texten wird häufig der Begriff „dot product“ verwendet, deshalb heißt die NumPy-Funktion `dot`. Man soll sich klar machen, dass hiermit nicht nur das Skalarprodukt zweier Vektoren gemeint ist."
   ]
  },
  {
   "cell_type": "code",
   "execution_count": null,
   "metadata": {},
   "outputs": [],
   "source": [
    "A = np.array([[11, 12, 13, 14],\n",
    "             [21, 22, 23, 24],\n",
    "             [31, 32, 33, 34]])\n",
    "B = np.array([[5, 4, 2],\n",
    "             [1, 0, 2],\n",
    "             [3, 8, 2],\n",
    "             [24, 12, 57]])\n",
    "x = np.array([1, 2, 3, 4])\n",
    "y = np.array([-3, 5, 6, -4])\n",
    "\n",
    "print(np.dot(x, y)) # Vektor mal Vektor\n",
    "print(np.dot(A, x)) # Matrix mal Vektor\n",
    "print(np.dot(A, B)) # Matrix mal Matrix"
   ]
  },
  {
   "cell_type": "markdown",
   "metadata": {},
   "source": [
    "Natürlich gilt hier auch die Einschränkung, dass die Anzahl der Spalten des ersten Arrays gleich der Anzahl der Zeilen des zweiten Arrays sein muss. Ansonsten erhält man eine Fehlermeldung."
   ]
  },
  {
   "cell_type": "code",
   "execution_count": null,
   "metadata": {},
   "outputs": [],
   "source": [
    "print(np.dot(B, x))"
   ]
  },
  {
   "cell_type": "code",
   "execution_count": null,
   "metadata": {},
   "outputs": [],
   "source": [
    "print(np.dot(B.T, x)) # B.T transponiert B"
   ]
  },
  {
   "cell_type": "markdown",
   "metadata": {},
   "source": [
    "Da die skalaren Operatoren `+`, `-`, `*`, `/` und `**` für elementweise Rechnungen gedacht sind, wird bei der Ausführung `A * B` versucht, die Elemente von `A` und `B` einzel miteinander zu multiplizieren. Aufgrund der unterschliedlichen Gestalten dieser zwei Arrays, erhält man eine Fehlermeldung."
   ]
  },
  {
   "cell_type": "code",
   "execution_count": null,
   "metadata": {},
   "outputs": [],
   "source": [
    "A * B"
   ]
  },
  {
   "cell_type": "markdown",
   "metadata": {},
   "source": [
    "Wenn man ein Skalarprodukt unbedingt mit dieser Syntax ausführen möchte, kann man den Operator `@` verwenden."
   ]
  },
  {
   "cell_type": "code",
   "execution_count": null,
   "metadata": {},
   "outputs": [],
   "source": [
    "A @ B"
   ]
  },
  {
   "cell_type": "markdown",
   "metadata": {},
   "source": [
    "Speziellere Funktionen der linearen Algebra befinden sich im Untermodul `linalg`. Eine wichtige Funktion davon ist `norm`, welche, wie der Name schon sagt, die Norm eines Arrays ausgibt. \n",
    "Die Syntax von `norm`:\n",
    "```\n",
    "norm(x[, ord=None][, axis=None])\n",
    "```\n",
    "Dabei ist `x` ein Array, `ord` die Art der Norm und `axis` die Achse, entlang welcher man die Norm berechnen soll. Oft verwendet man die Euklidische Norm (2-Norm) für Vektoren und muss dafür den Argument `ord` nicht übergeben."
   ]
  },
  {
   "cell_type": "code",
   "execution_count": null,
   "metadata": {},
   "outputs": [],
   "source": [
    "x = np.array([1, 2, 3])\n",
    "x_norm_method1 = np.sqrt(np.sum(x**2)) # Alle Elemente quadrieren, summieren und Wurzel davon nehmen\n",
    "x_norm_method2 = np.linalg.norm(x)\n",
    "\n",
    "print(x_norm_method1)\n",
    "print(x_norm_method2)"
   ]
  },
  {
   "cell_type": "markdown",
   "metadata": {},
   "source": [
    "Ist `x` ein 2D-Array und man lässt `ord` weg, so wird die sog. Frobenius-Norm verwendet, die analog zur euklidischen Norm definiert ist."
   ]
  },
  {
   "cell_type": "code",
   "execution_count": null,
   "metadata": {},
   "outputs": [],
   "source": [
    "A = np.array([[1, 2, 3], [4, 5, 6], [7, 8, 9]])\n",
    "A_norm_method1 = np.sqrt(np.sum(A**2)) # Alle Elemente quadrieren, summieren und Wurzel davon nehmen\n",
    "A_norm_method2 = np.linalg.norm(A)\n",
    "\n",
    "print(A_norm_method1)\n",
    "print(A_norm_method2)"
   ]
  },
  {
   "cell_type": "markdown",
   "metadata": {},
   "source": [
    "Man kann auch die Norm für jede Zeile/Spalte in `A` mit Hilfe des Arguments `axis` berechnen. "
   ]
  },
  {
   "cell_type": "code",
   "execution_count": null,
   "metadata": {},
   "outputs": [],
   "source": [
    "A_zeilennorm = np.linalg.norm(A, axis=1)\n",
    "print(A_zeilennorm)\n",
    "\n",
    "for row in A:\n",
    "    print(row, np.linalg.norm(row))\n",
    "\n",
    "A_spaltennorm = np.linalg.norm(A, axis=0)\n",
    "print(A_spaltennorm)"
   ]
  },
  {
   "cell_type": "markdown",
   "metadata": {},
   "source": [
    "Auch sehr nützlich ist die Funktion `eigh`, um Eigenwerte und Eigenvektoren von symmetrischen Matrizen zu berechnen. Da `A` noch nicht symmetrisch ist, können wir mit Hilfe der Transposition eine symmetrische Matrix erzeugen und die Eigenwerten davon berechnen. "
   ]
  },
  {
   "cell_type": "code",
   "execution_count": null,
   "metadata": {},
   "outputs": [],
   "source": [
    "M = A + A.T\n",
    "eigenwerte, eigenvektoren = np.linalg.eigh(M)\n",
    "print(eigenwerte)\n",
    "print(eigenvektoren)"
   ]
  },
  {
   "cell_type": "markdown",
   "metadata": {},
   "source": [
    "Die Eigenvektoren sind die Spalten in dem ausgegebenen Array `eigenvektoren`. Für quadratische, asymmetrische Matrizen kann die Funktion `eig` verwendet werden."
   ]
  }
 ],
 "metadata": {
  "kernelspec": {
   "display_name": "Python 3 (ipykernel)",
   "language": "python",
   "name": "python3"
  },
  "language_info": {
   "codemirror_mode": {
    "name": "ipython",
    "version": 3
   },
   "file_extension": ".py",
   "mimetype": "text/x-python",
   "name": "python",
   "nbconvert_exporter": "python",
   "pygments_lexer": "ipython3",
   "version": "3.10.12"
  },
  "varInspector": {
   "cols": {
    "lenName": 16,
    "lenType": 16,
    "lenVar": 40
   },
   "kernels_config": {
    "python": {
     "delete_cmd_postfix": "",
     "delete_cmd_prefix": "del ",
     "library": "var_list.py",
     "varRefreshCmd": "print(var_dic_list())"
    },
    "r": {
     "delete_cmd_postfix": ") ",
     "delete_cmd_prefix": "rm(",
     "library": "var_list.r",
     "varRefreshCmd": "cat(var_dic_list()) "
    }
   },
   "types_to_exclude": [
    "module",
    "function",
    "builtin_function_or_method",
    "instance",
    "_Feature"
   ],
   "window_display": false
  }
 },
 "nbformat": 4,
 "nbformat_minor": 4
}
