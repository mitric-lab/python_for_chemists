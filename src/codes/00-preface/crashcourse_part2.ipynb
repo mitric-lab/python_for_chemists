{
 "cells": [
  {
   "cell_type": "markdown",
   "metadata": {},
   "source": [
    "# Crashkurs: Numerisches Programmieren\n",
    "\n",
    "Numerische Programmierung befasst sich mit der Approximation mathematischer Probleme. Python, kombiniert mit Modulen wie [NumPy](https://numpy.org), [SciPy](https://www.scipy.org), [Matplotlib](https://matplotlib.org) und [Pandas](https://pandas.pydata.org), ermöglicht effiziente numerische Algorithmen. Diese Module nutzen optimierte Implementierungen in Fortran oder C.\n",
    "\n",
    "- **NumPy**: Basis für mehrdimensionale Arrays und Matrizen, bietet grundlegende Funktionalitäten zur Manipulation dieser Strukturen.\n",
    "- **SciPy**: Baut auf NumPy auf und erweitert es um Funktionen wie Minimierung, Regression und Fourier-Transformation.\n",
    "- **Matplotlib**: Ermöglicht die grafische Darstellung von Daten.\n",
    "- **Pandas**: Ergänzt die Familie mit leistungsstarken Datenanalyse-Tools."
   ]
  },
  {
   "cell_type": "markdown",
   "metadata": {},
   "source": [
    "## NumPy\n",
    "\n",
    "NumPy ist ein Modul für schnelle numerische Berechnungen mit effizienten Datenstrukturen für Arrays und Matrizen. Es muss vor der Nutzung importiert werden:"
   ]
  },
  {
   "cell_type": "code",
   "execution_count": 2,
   "metadata": {},
   "outputs": [],
   "source": [
    "import numpy"
   ]
  },
  {
   "cell_type": "markdown",
   "metadata": {},
   "source": [
    "Meistens wird NumPy als `np` importiert:"
   ]
  },
  {
   "cell_type": "code",
   "execution_count": 3,
   "metadata": {},
   "outputs": [],
   "source": [
    "import numpy as np"
   ]
  },
  {
   "cell_type": "markdown",
   "metadata": {},
   "source": [
    "Ein Beispiel: Wir definieren eine Liste mit Celsius-Temperaturen:"
   ]
  },
  {
   "cell_type": "code",
   "execution_count": 4,
   "metadata": {},
   "outputs": [],
   "source": [
    "cvalues = [20.1, 20.8, 21.9, 22.5, 22.7, 21.8, 21.3, 20.9, 20.1]"
   ]
  },
  {
   "cell_type": "markdown",
   "metadata": {},
   "source": [
    "Diese Liste wird in ein NumPy-Array umgewandelt:"
   ]
  },
  {
   "cell_type": "code",
   "execution_count": 5,
   "metadata": {},
   "outputs": [
    {
     "name": "stdout",
     "output_type": "stream",
     "text": [
      "[20.1 20.8 21.9 22.5 22.7 21.8 21.3 20.9 20.1] <class 'numpy.ndarray'>\n"
     ]
    }
   ],
   "source": [
    "C = np.array(cvalues)\n",
    "print(C, type(C))"
   ]
  },
  {
   "cell_type": "markdown",
   "metadata": {},
   "source": [
    "Umrechnung der Celsius-Werte in Fahrenheit:"
   ]
  },
  {
   "cell_type": "code",
   "execution_count": 6,
   "metadata": {},
   "outputs": [
    {
     "data": {
      "text/plain": [
       "array([68.18, 69.44, 71.42, 72.5 , 72.86, 71.24, 70.34, 69.62, 68.18])"
      ]
     },
     "execution_count": 6,
     "metadata": {},
     "output_type": "execute_result"
    }
   ],
   "source": [
    "C * 9 / 5 + 32"
   ]
  },
  {
   "cell_type": "markdown",
   "metadata": {},
   "source": [
    "Das Array `C` bleibt dabei unverändert:"
   ]
  },
  {
   "cell_type": "code",
   "execution_count": 7,
   "metadata": {},
   "outputs": [
    {
     "data": {
      "text/plain": [
       "array([20.1, 20.8, 21.9, 22.5, 22.7, 21.8, 21.3, 20.9, 20.1])"
      ]
     },
     "execution_count": 7,
     "metadata": {},
     "output_type": "execute_result"
    }
   ],
   "source": [
    "C"
   ]
  },
  {
   "cell_type": "markdown",
   "metadata": {},
   "source": [
    "Verglichen mit Python-Listen ist dies deutlich effizienter:"
   ]
  },
  {
   "cell_type": "code",
   "execution_count": 8,
   "metadata": {},
   "outputs": [
    {
     "data": {
      "text/plain": [
       "[68.18, 69.44, 71.42, 72.5, 72.86, 71.24000000000001, 70.34, 69.62, 68.18]"
      ]
     },
     "execution_count": 8,
     "metadata": {},
     "output_type": "execute_result"
    }
   ],
   "source": [
    "fahrenheit_c = []\n",
    "for value in cvalues:\n",
    "    new_value = value * 9/5 + 32\n",
    "    fahrenheit_c.append(new_value)\n",
    "fahrenheit_c"
   ]
  },
  {
   "cell_type": "markdown",
   "metadata": {},
   "source": [
    "Direkte skalare Operationen auf Listen führen zu Fehlern:"
   ]
  },
  {
   "cell_type": "code",
   "execution_count": 9,
   "metadata": {},
   "outputs": [
    {
     "ename": "TypeError",
     "evalue": "unsupported operand type(s) for /: 'list' and 'int'",
     "output_type": "error",
     "traceback": [
      "\u001b[31m---------------------------------------------------------------------------\u001b[39m",
      "\u001b[31mTypeError\u001b[39m                                 Traceback (most recent call last)",
      "\u001b[36mCell\u001b[39m\u001b[36m \u001b[39m\u001b[32mIn[9]\u001b[39m\u001b[32m, line 1\u001b[39m\n\u001b[32m----> \u001b[39m\u001b[32m1\u001b[39m \u001b[43mcvalues\u001b[49m\u001b[43m \u001b[49m\u001b[43m*\u001b[49m\u001b[43m \u001b[49m\u001b[32;43m9\u001b[39;49m\u001b[43m \u001b[49m\u001b[43m/\u001b[49m\u001b[43m \u001b[49m\u001b[32;43m5\u001b[39;49m + \u001b[32m32\u001b[39m\n",
      "\u001b[31mTypeError\u001b[39m: unsupported operand type(s) for /: 'list' and 'int'"
     ]
    }
   ],
   "source": [
    "cvalues * 9 / 5 + 32"
   ]
  },
  {
   "cell_type": "markdown",
   "metadata": {},
   "source": [
    "Der Operator `*` zwischen Listen und Integers hat eine andere Bedeutung:"
   ]
  },
  {
   "cell_type": "code",
   "execution_count": 10,
   "metadata": {},
   "outputs": [
    {
     "name": "stdout",
     "output_type": "stream",
     "text": [
      "[1, 6, 8, 3, 7, 1, 6, 8, 3, 7]\n"
     ]
    }
   ],
   "source": [
    "test_list = [1, 6, 8, 3, 7]\n",
    "print(test_list * 2)"
   ]
  },
  {
   "cell_type": "markdown",
   "metadata": {},
   "source": [
    "NumPy-Arrays werden intern als `ndarray` bezeichnet:"
   ]
  },
  {
   "cell_type": "code",
   "execution_count": 11,
   "metadata": {},
   "outputs": [
    {
     "data": {
      "text/plain": [
       "numpy.ndarray"
      ]
     },
     "execution_count": 11,
     "metadata": {},
     "output_type": "execute_result"
    }
   ],
   "source": [
    "type(C)"
   ]
  },
  {
   "cell_type": "markdown",
   "metadata": {},
   "source": [
    "Die Begriffe „Array“ und „ndarray“ werden synonym verwendet."
   ]
  },
  {
   "cell_type": "markdown",
   "metadata": {},
   "source": [
    "### Erzeugung äquidistanter Intervalle\n",
    "\n",
    "NumPy bietet Funktionen wie `arange` und `linspace`, um Intervalle mit gleichmäßig verteilten Werten zu erzeugen."
   ]
  },
  {
   "cell_type": "code",
   "execution_count": 13,
   "metadata": {},
   "outputs": [
    {
     "name": "stdout",
     "output_type": "stream",
     "text": [
      "a:  [1 2 3 4 5 6]\n"
     ]
    }
   ],
   "source": [
    "a = np.arange(1, 7)\n",
    "print(\"a: \", a)"
   ]
  },
  {
   "cell_type": "code",
   "execution_count": 14,
   "metadata": {},
   "outputs": [
    {
     "name": "stdout",
     "output_type": "stream",
     "text": [
      "x:  range(1, 7)\n",
      "x as list:  [1, 2, 3, 4, 5, 6]\n"
     ]
    }
   ],
   "source": [
    "# im Vergleich dazu nun range:\n",
    "x = range(1, 7)\n",
    "print(\"x: \", x) # x ist ein Iterator \n",
    "print(\"x as list: \", list(x))"
   ]
  },
  {
   "cell_type": "code",
   "execution_count": 15,
   "metadata": {},
   "outputs": [
    {
     "name": "stdout",
     "output_type": "stream",
     "text": [
      "a1:  [0. 1. 2. 3. 4. 5. 6. 7.]\n",
      "a2:  [0.5 1.3 2.1 2.9 3.7 4.5 5.3]\n",
      "a3:  [0 1 2 3 4 5 6]\n"
     ]
    }
   ],
   "source": [
    "# weitere arange-Beispiele:\n",
    "a1 = np.arange(7.3) \n",
    "print(\"a1: \", a1)\n",
    "a2 = np.arange(0.5, 6.1, 0.8)\n",
    "print(\"a2: \", a2)\n",
    "a3 = np.arange(0.5, 6.1, 0.8, int)\n",
    "print(\"a3: \", a3)"
   ]
  },
  {
   "cell_type": "markdown",
   "metadata": {},
   "source": [
    "Die Syntax von `linspace`:\n",
    "`linspace` gibt ein `ndarray` mit `num` gleichmäßig verteilten Werten aus dem Intervall `[start, stop]` (geschlossen) oder `[start, stop)` (halb-offen) zurück. Ob das Intervall geschlossen oder halb-offen ist, hängt vom Parameter `endpoint` ab. Ist `endpoint=False`, wird `stop` ausgeschlossen. Die Schrittweite variiert entsprechend."
   ]
  },
  {
   "cell_type": "code",
   "execution_count": 16,
   "metadata": {},
   "outputs": [
    {
     "name": "stdout",
     "output_type": "stream",
     "text": [
      "[ 1.          1.18367347  1.36734694  1.55102041  1.73469388  1.91836735\n",
      "  2.10204082  2.28571429  2.46938776  2.65306122  2.83673469  3.02040816\n",
      "  3.20408163  3.3877551   3.57142857  3.75510204  3.93877551  4.12244898\n",
      "  4.30612245  4.48979592  4.67346939  4.85714286  5.04081633  5.2244898\n",
      "  5.40816327  5.59183673  5.7755102   5.95918367  6.14285714  6.32653061\n",
      "  6.51020408  6.69387755  6.87755102  7.06122449  7.24489796  7.42857143\n",
      "  7.6122449   7.79591837  7.97959184  8.16326531  8.34693878  8.53061224\n",
      "  8.71428571  8.89795918  9.08163265  9.26530612  9.44897959  9.63265306\n",
      "  9.81632653 10.        ]\n"
     ]
    }
   ],
   "source": [
    "# 50 Werte (Default) zwischen 1 und 10:\n",
    "print(np.linspace(1, 10))"
   ]
  },
  {
   "cell_type": "code",
   "execution_count": 17,
   "metadata": {},
   "outputs": [
    {
     "name": "stdout",
     "output_type": "stream",
     "text": [
      "[1.         2.28571429 3.57142857 4.85714286 6.14285714 7.42857143\n",
      " 8.71428571]\n"
     ]
    }
   ],
   "source": [
    "# 7 Werte zwischen 1 und 10: print(np.linspace(1, 10, 7))\n",
    "# jetzt ohne Endpunkt:\n",
    "print(np.linspace(1, 10, 7, endpoint=False))"
   ]
  },
  {
   "cell_type": "markdown",
   "metadata": {},
   "source": [
    "### Eindimensionale Arrays\n",
    "Eindimensionale Arrays, auch als Vektoren bekannt, sind NumPy-Container, die nur einen Datentyp enthalten können, z. B. nur Integers. Den Datentyp eines Arrays können wir mit dem Attribut `dtype` bestimmen, wie im folgenden Beispiel gezeigt wird:"
   ]
  },
  {
   "cell_type": "code",
   "execution_count": 18,
   "metadata": {},
   "outputs": [
    {
     "name": "stdout",
     "output_type": "stream",
     "text": [
      "F:  [ 1  1  2  3  5  8 13 21]\n",
      "V:  [ 3.4  6.9 99.8 12.8]\n",
      "Typ von F:  int64\n",
      "Typ von V:  float64\n",
      "Dimension von F:  1\n",
      "Dimension von V:  1\n"
     ]
    }
   ],
   "source": [
    "F = np.array([1, 1, 2, 3, 5, 8, 13, 21])\n",
    "V = np.array([3.4, 6.9, 99.8, 12.8]) \n",
    "print(\"F: \", F)\n",
    "print(\"V: \", V)\n",
    "print(\"Typ von F: \", F.dtype)\n",
    "print(\"Typ von V: \", V.dtype)\n",
    "print(\"Dimension von F: \", np.ndim(F))\n",
    "print(\"Dimension von V: \", np.ndim(V))"
   ]
  },
  {
   "cell_type": "markdown",
   "metadata": {},
   "source": [
    "### Zwei- und Mehrdimensionale Arrays\n",
    "NumPy-Arrays sind nicht auf eine Dimension beschränkt. Sie können beliebig viele Dimensionen haben und werden durch Übergabe verschachtelter Listen (oder Tupel) an die `array`-Methode erzeugt:"
   ]
  },
  {
   "cell_type": "code",
   "execution_count": 19,
   "metadata": {},
   "outputs": [
    {
     "name": "stdout",
     "output_type": "stream",
     "text": [
      "A:  [[ 3.4  8.7  9.9]\n",
      " [ 1.1 -7.8 -0.7]\n",
      " [ 4.1 12.3  4.8]]\n",
      "Zahl der Dimensionen von A:  2\n"
     ]
    }
   ],
   "source": [
    "A = np.array([[3.4, 8.7, 9.9], [1.1, -7.8, -0.7], [4.1, 12.3, 4.8]])\n",
    "print(\"A: \", A)\n",
    "print(\"Zahl der Dimensionen von A: \", A.ndim)"
   ]
  },
  {
   "cell_type": "markdown",
   "metadata": {},
   "source": [
    "### Gestalt eines Arrays (shape)\n",
    "\n",
    "Die Funktion `shape` gibt die Größe bzw. Gestalt eines Arrays als Integer-Tupel zurück. Dieses Tupel enthält die Anzahl der Elemente pro Dimension, z. B. Zeilen und Spalten bei 2D-Arrays. Im Beispiel ist `shape` (6, 3), was sechs Zeilen und drei Spalten bedeutet."
   ]
  },
  {
   "cell_type": "code",
   "execution_count": 21,
   "metadata": {},
   "outputs": [
    {
     "name": "stdout",
     "output_type": "stream",
     "text": [
      "(6, 3)\n",
      "(6, 3)\n"
     ]
    }
   ],
   "source": [
    "x = np.array([[67, 63, 87],\n",
    "            [77, 69, 59],\n",
    "            [85, 87, 99],\n",
    "            [79, 72, 71],\n",
    "            [63, 89, 93],\n",
    "            [68, 92, 78]])\n",
    "print(np.shape(x))\n",
    "# Oder als Eigenschaft des Arrays\n",
    "print(x.shape)"
   ]
  },
  {
   "cell_type": "markdown",
   "metadata": {},
   "source": [
    "Die Gestalt eines Arrays zeigt die Reihenfolge der Indizes: zuerst Zeilen, dann Spalten und ggf. weitere Dimensionen. Mit `shape` kann die „Shape“ eines Arrays auch geändert werden:\n"
   ]
  },
  {
   "cell_type": "code",
   "execution_count": 22,
   "metadata": {},
   "outputs": [
    {
     "name": "stdout",
     "output_type": "stream",
     "text": [
      "[[67 63 87 77 69 59]\n",
      " [85 87 99 79 72 71]\n",
      " [63 89 93 68 92 78]]\n",
      "[[67 63 87 77 69 59 85 87 99]\n",
      " [79 72 71 63 89 93 68 92 78]]\n"
     ]
    }
   ],
   "source": [
    "x.shape = (3, 6)\n",
    "print(x)\n",
    "x.shape = (2, 9) \n",
    "print(x)"
   ]
  },
  {
   "cell_type": "markdown",
   "metadata": {},
   "source": [
    "Die neue Shape muss der Anzahl der Elemente des Arrays entsprechen, d.h. die Gesamtgröße des neuen Arrays muss gleich bleiben. Andernfalls wird eine Ausnahme ausgelöst, z.B. bei folgendem Fall:"
   ]
  },
  {
   "cell_type": "code",
   "execution_count": 23,
   "metadata": {},
   "outputs": [
    {
     "ename": "ValueError",
     "evalue": "cannot reshape array of size 18 into shape (4,4)",
     "output_type": "error",
     "traceback": [
      "\u001b[31m---------------------------------------------------------------------------\u001b[39m",
      "\u001b[31mValueError\u001b[39m                                Traceback (most recent call last)",
      "\u001b[36mCell\u001b[39m\u001b[36m \u001b[39m\u001b[32mIn[23]\u001b[39m\u001b[32m, line 1\u001b[39m\n\u001b[32m----> \u001b[39m\u001b[32m1\u001b[39m \u001b[43mx\u001b[49m\u001b[43m.\u001b[49m\u001b[43mshape\u001b[49m = (\u001b[32m4\u001b[39m, \u001b[32m4\u001b[39m)\n",
      "\u001b[31mValueError\u001b[39m: cannot reshape array of size 18 into shape (4,4)"
     ]
    }
   ],
   "source": [
    "x.shape = (4, 4)"
   ]
  },
  {
   "cell_type": "markdown",
   "metadata": {},
   "source": [
    "### Indizierung von NumPy Arrays\n",
    "Der Zugriff und die Zuweisung von Array-Elementen funktioniert ähnlich wie bei Python-Listen und -Tupeln. NumPy bietet jedoch zusätzliche, mächtige Indizierungsmöglichkeiten, die dem Teilbereichsoperator von Listen ähneln. Das Indizieren einzelner Elemente ist intuitiv:\n"
   ]
  },
  {
   "cell_type": "code",
   "execution_count": 24,
   "metadata": {},
   "outputs": [
    {
     "name": "stdout",
     "output_type": "stream",
     "text": [
      "1\n",
      "21\n"
     ]
    }
   ],
   "source": [
    "F = np.array([1, 1, 2, 3, 5, 8, 13, 21]) # Ausgabe des ersten Elements von F \n",
    "print(F[0])\n",
    "# Ausgabe letztes Element von F \n",
    "print(F[-1])"
   ]
  },
  {
   "cell_type": "markdown",
   "metadata": {},
   "source": [
    "Mehrdimensionale Arrays können auf zwei unterschiedliche Weisen indiziert werden:"
   ]
  },
  {
   "cell_type": "code",
   "execution_count": 25,
   "metadata": {},
   "outputs": [
    {
     "name": "stdout",
     "output_type": "stream",
     "text": [
      "1.1\n",
      "1.1\n"
     ]
    }
   ],
   "source": [
    "A = np.array([[3.4, 8.7, 9.9], [1.1, -7.8, -0.7], [4.1, 12.3, 4.8]])\n",
    "print(A[1][0])\n",
    "print(A[1, 0]) # Ausgabe des ersten Elements der zweiten Zeile"
   ]
  },
  {
   "cell_type": "markdown",
   "metadata": {},
   "source": [
    "Für `A` haben wir auf das Element in der zweiten Zeile (Index 1) und der ersten Spalte (Index 0) zugegriffen, ähnlich wie bei einer verschachtelten Python-Liste. Die zweite Methode (eine Klammer mit Kommas) ist effizienter, da im ersten Fall ein Zwischen-Array `A[1]` erzeugt wird, aus dem dann das Element mit Index 0 abgerufen wird.\n"
   ]
  },
  {
   "cell_type": "markdown",
   "metadata": {},
   "source": [
    "Die Verwendung von Teilbereichsoperatoren (Slicing) ist ähnlich wie bei Python-Listen und -Tupeln. Das englische „to slice“ bedeutet „schneiden“ oder „in Scheiben schneiden“, was die Arbeitsweise des Operators beschreibt: Man schneidet sich eine „Scheibe“ aus einem sequentiellen Datentyp oder Array heraus.\n",
    "\n",
    "Die Syntax in NumPy entspricht der von Python bei eindimensionalen Arrays, kann aber auch auf mehrdimensionale Arrays angewendet werden. Die allgemeine Syntax lautet:\n",
    "\n",
    "```python\n",
    "array[start:stop:step]\n",
    "```"
   ]
  },
  {
   "cell_type": "markdown",
   "metadata": {},
   "source": [
    "Die Anwendung des Teilbereichsoperators auf mehrdimensionale Arrays illustrieren wir in den folgenden Beispielen. Die Bereiche für jede Dimension werden durch Kommas getrennt:"
   ]
  },
  {
   "cell_type": "code",
   "execution_count": 26,
   "metadata": {},
   "outputs": [
    {
     "name": "stdout",
     "output_type": "stream",
     "text": [
      "[[13 14 15]\n",
      " [23 24 25]\n",
      " [33 34 35]]\n"
     ]
    }
   ],
   "source": [
    "A = np.array([[11, 12, 13, 14, 15], \n",
    "              [21, 22, 23, 24, 25], \n",
    "              [31, 32, 33, 34, 35], \n",
    "              [41, 42, 43, 44, 45], \n",
    "              [51, 52, 53, 54, 55]])\n",
    "print(A[:3, 2:])"
   ]
  },
  {
   "cell_type": "markdown",
   "metadata": {},
   "source": [
    "<img src=\"http://jhoche.de/numpy_1.png\" width=\"250\" height=\"300\">"
   ]
  },
  {
   "cell_type": "code",
   "execution_count": 27,
   "metadata": {},
   "outputs": [
    {
     "name": "stdout",
     "output_type": "stream",
     "text": [
      "[[41 42 43 44 45]\n",
      " [51 52 53 54 55]]\n"
     ]
    }
   ],
   "source": [
    "print(A[3:, :])"
   ]
  },
  {
   "cell_type": "markdown",
   "metadata": {},
   "source": [
    "<img src=\"http://jhoche.de/numpy_2.png\" width=\"250\" height=\"300\">"
   ]
  },
  {
   "cell_type": "code",
   "execution_count": 28,
   "metadata": {},
   "outputs": [
    {
     "name": "stdout",
     "output_type": "stream",
     "text": [
      "[[15]\n",
      " [25]\n",
      " [35]\n",
      " [45]\n",
      " [55]]\n"
     ]
    }
   ],
   "source": [
    "print(A[:, 4:])"
   ]
  },
  {
   "cell_type": "markdown",
   "metadata": {},
   "source": [
    "<img src=\"http://jhoche.de/numpy_3.png\" width=\"250\" height=\"300\">"
   ]
  },
  {
   "cell_type": "markdown",
   "metadata": {},
   "source": [
    "Die folgenden beiden Beispiele benutzten auch noch den dritten Parameter `step`. Die `reshape`-Funktion benutzen wir, um ein eindimensionales Array in ein zweidimensionales zu wandeln. Wir werden `reshape` im folgenden Unterkapitel erklären:"
   ]
  },
  {
   "cell_type": "code",
   "execution_count": 29,
   "metadata": {},
   "outputs": [
    {
     "name": "stdout",
     "output_type": "stream",
     "text": [
      "[[ 0  1  2  3  4  5  6]\n",
      " [ 7  8  9 10 11 12 13]\n",
      " [14 15 16 17 18 19 20]\n",
      " [21 22 23 24 25 26 27]]\n"
     ]
    }
   ],
   "source": [
    "X = np.arange(28).reshape(4, 7)\n",
    "print(X)"
   ]
  },
  {
   "cell_type": "code",
   "execution_count": 30,
   "metadata": {},
   "outputs": [
    {
     "name": "stdout",
     "output_type": "stream",
     "text": [
      "[[ 0  3  6]\n",
      " [14 17 20]]\n"
     ]
    }
   ],
   "source": [
    "print(X[::2, ::3])"
   ]
  },
  {
   "cell_type": "markdown",
   "metadata": {},
   "source": [
    "<img src=\"http://jhoche.de/numpy_4.png\" width=\"380\" height=\"300\">"
   ]
  },
  {
   "cell_type": "code",
   "execution_count": 31,
   "metadata": {},
   "outputs": [
    {
     "name": "stdout",
     "output_type": "stream",
     "text": [
      "[[ 0  3  6]\n",
      " [ 7 10 13]\n",
      " [14 17 20]\n",
      " [21 24 27]]\n"
     ]
    }
   ],
   "source": [
    "print(X[::, ::3])"
   ]
  },
  {
   "cell_type": "markdown",
   "metadata": {},
   "source": [
    "<img src=\"http://jhoche.de/numpy_5.png\" width=\"380\" height=\"300\">"
   ]
  },
  {
   "cell_type": "markdown",
   "metadata": {},
   "source": [
    "Falls die Zahl der Objekte in dem Auswahltupel kleiner als die Dimension N ist, dann wird „:“ (alle Elemente) für die weiteren, nicht angegebenen Dimensionen angenommen:"
   ]
  },
  {
   "cell_type": "code",
   "execution_count": 32,
   "metadata": {},
   "outputs": [
    {
     "name": "stdout",
     "output_type": "stream",
     "text": [
      "[[ 0  1  2  3  4  5  6]\n",
      " [14 15 16 17 18 19 20]]\n"
     ]
    }
   ],
   "source": [
    "print(X[::2])"
   ]
  },
  {
   "cell_type": "markdown",
   "metadata": {},
   "source": [
    "<img src=\"http://jhoche.de/numpy_6.png\" width=\"380\" height=\"300\">"
   ]
  },
  {
   "cell_type": "markdown",
   "metadata": {},
   "source": [
    "**Achtung**: Während der Teilbereichsoperator bei Listen und Tupel neue Objekte erzeugt, generiert er bei NumPy nur eine Sicht (englisch: „view“) auf das Originalarray. Dadurch erhalten wir eine andere Möglichkeit, das Array anzusprechen, oder besser: einen Teil des Arrays. Daraus folgt, dass wenn wir etwas in einer Sicht verändern, wir auch das Originalarray verändern:"
   ]
  },
  {
   "cell_type": "code",
   "execution_count": 33,
   "metadata": {},
   "outputs": [
    {
     "name": "stdout",
     "output_type": "stream",
     "text": [
      "[ 0  1 22 23  4  5  6  7  8  9]\n"
     ]
    }
   ],
   "source": [
    "A = np.array([0, 1, 2, 3, 4, 5, 6, 7, 8, 9]) \n",
    "S = A[2:6]\n",
    "S[0] = 22\n",
    "S[1] = 23\n",
    "print(A)"
   ]
  },
  {
   "cell_type": "markdown",
   "metadata": {},
   "source": [
    "Wenn wir das analog bei Listen tun, sehen wir, dass wir eine Kopie erhalten. Genau genommen müssten wir sagen, eine flache Kopie."
   ]
  },
  {
   "cell_type": "code",
   "execution_count": 34,
   "metadata": {},
   "outputs": [
    {
     "name": "stdout",
     "output_type": "stream",
     "text": [
      "[0, 1, 2, 3, 4, 5, 6, 7, 8, 9]\n"
     ]
    }
   ],
   "source": [
    "lst = [0, 1, 2, 3, 4, 5, 6, 7, 8, 9]\n",
    "lst2 = lst[2:6]\n",
    "lst2[0] = 22\n",
    "lst2[1] = 23\n",
    "print(lst)"
   ]
  },
  {
   "cell_type": "markdown",
   "metadata": {},
   "source": [
    "### Gestalt eines Arrays ändern\n",
    "\n",
    "Wir haben gesehen, dass man durch Änderung des Attributs `shape` die Gestalt eines Arrays ändern kann. Es wird jedoch empfohlen, Attribute wie `shape` nicht direkt zu verändern. Stattdessen sollte die Methode `reshape` verwendet werden, die diese Aufgabe übernimmt, ohne eine Kopie zu erstellen."
   ]
  },
  {
   "cell_type": "code",
   "execution_count": 35,
   "metadata": {},
   "outputs": [
    {
     "name": "stdout",
     "output_type": "stream",
     "text": [
      "Umgeformter Array y1:  [[67 63 87 77 69 59 85 87 99]\n",
      " [79 72 71 63 89 93 68 92 78]]\n",
      "Umgeformter Array y2:  [[67 63 87 77 69 59 85 87 99]\n",
      " [79 72 71 63 89 93 68 92 78]]\n",
      "Ursprünglicher Array x:  [[67 63 87]\n",
      " [77 69 59]\n",
      " [85 87 99]\n",
      " [79 72 71]\n",
      " [63 89 93]\n",
      " [68 92 78]]\n"
     ]
    }
   ],
   "source": [
    "x = np.array([[67, 63, 87],\n",
    "              [77, 69, 59],\n",
    "              [85, 87, 99],\n",
    "              [79, 72, 71],\n",
    "              [63, 89, 93],\n",
    "              [68, 92, 78]])\n",
    "y1 = np.reshape(x, (2, 9))\n",
    "y2 = x.reshape((2, 9))\n",
    "\n",
    "print(\"Umgeformter Array y1: \", y1)\n",
    "print(\"Umgeformter Array y2: \", y2)\n",
    "print(\"Ursprünglicher Array x: \", x)"
   ]
  },
  {
   "cell_type": "markdown",
   "metadata": {},
   "source": [
    "Man muss dabei die Dimension des Arrays nicht beibehalten."
   ]
  },
  {
   "cell_type": "code",
   "execution_count": 36,
   "metadata": {},
   "outputs": [
    {
     "name": "stdout",
     "output_type": "stream",
     "text": [
      "[[[67 63]\n",
      "  [87 77]\n",
      "  [69 59]]\n",
      "\n",
      " [[85 87]\n",
      "  [99 79]\n",
      "  [72 71]]\n",
      "\n",
      " [[63 89]\n",
      "  [93 68]\n",
      "  [92 78]]]\n",
      "Dimension von x:  2\n",
      "Dimension von z:  3\n"
     ]
    }
   ],
   "source": [
    "z = x.reshape((3, 3, 2))\n",
    "print(z)\n",
    "\n",
    "print(\"Dimension von x: \", x.ndim)\n",
    "print(\"Dimension von z: \", z.ndim)"
   ]
  },
  {
   "cell_type": "markdown",
   "metadata": {},
   "source": [
    "Manchmal kennt man die Länge einer Dimension des Arrays nicht oder möchte sie nicht berechnen. Solange nur eine Dimension fehlt, kann `reshape` diese automatisch bestimmen. Dafür verwendet man `-1` als Platzhalter."
   ]
  },
  {
   "cell_type": "code",
   "execution_count": 37,
   "metadata": {},
   "outputs": [
    {
     "data": {
      "text/plain": [
       "array([[[67, 63],\n",
       "        [87, 77],\n",
       "        [69, 59]],\n",
       "\n",
       "       [[85, 87],\n",
       "        [99, 79],\n",
       "        [72, 71]],\n",
       "\n",
       "       [[63, 89],\n",
       "        [93, 68],\n",
       "        [92, 78]]])"
      ]
     },
     "execution_count": 37,
     "metadata": {},
     "output_type": "execute_result"
    }
   ],
   "source": [
    "x.reshape((3, -1, 2))"
   ]
  },
  {
   "cell_type": "markdown",
   "metadata": {},
   "source": [
    "Sehr häufig möchte man mehrdimensionale Arrays in 1D-Arrays umwandeln. Dafür kann man zwar `reshape` verwenden, es gibt aber zwei spezielle Methoden: `flatten` und `ravel`. Während `flatten` eine Kopie des Arrays erstellt, liefert `ravel` nur eine Ansicht."
   ]
  },
  {
   "cell_type": "code",
   "execution_count": 38,
   "metadata": {},
   "outputs": [
    {
     "name": "stdout",
     "output_type": "stream",
     "text": [
      "[67 63 87 77 69 59 85 87 99 79 72 71 63 89 93 68 92 78]\n",
      "[67 63 87 77 69 59 85 87 99 79 72 71 63 89 93 68 92 78]\n",
      "[67 63 87 77 69 59 85 87 99 79 72 71 63 89 93 68 92 78]\n"
     ]
    }
   ],
   "source": [
    "x_1d = x.reshape(18)  # alternativ auch mit x.reshape(-1)\n",
    "flattened_x = x.flatten()\n",
    "raveled_x = x.ravel()\n",
    "\n",
    "print(x_1d)\n",
    "print(flattened_x)\n",
    "print(raveled_x)"
   ]
  },
  {
   "cell_type": "markdown",
   "metadata": {},
   "source": [
    "### Lineare Algebra\n",
    "\n",
    "Sie fragen sich vielleicht, warum hier von 1D- und 2D-Arrays die Rede ist, wenn diese doch Vektoren und Matrizen der linearen Algebra ähneln. Tatsächlich sind es Datenstrukturen, die sich besonders gut zur Darstellung von Vektoren und Matrizen eignen. In diesem Kapitel werden die wichtigsten NumPy-Funktionen zur linearen Algebra vorgestellt."
   ]
  },
  {
   "cell_type": "markdown",
   "metadata": {},
   "source": [
    "In der linearen Algebra ist das Skalarprodukt eine zentrale Operation, die das Produkt zweier Vektoren, einer Matrix mit einem Vektor oder zweier Matrizen umfasst. In NumPy wird hierfür die Funktion `dot` verwendet, die nicht nur das Skalarprodukt von Vektoren, sondern auch andere Formen des Produkts berechnet."
   ]
  },
  {
   "cell_type": "code",
   "execution_count": 39,
   "metadata": {},
   "outputs": [
    {
     "name": "stdout",
     "output_type": "stream",
     "text": [
      "9\n",
      "[130 230 330]\n",
      "[[ 442  316  870]\n",
      " [ 772  556 1500]\n",
      " [1102  796 2130]]\n"
     ]
    }
   ],
   "source": [
    "A = np.array([[11, 12, 13, 14],\n",
    "             [21, 22, 23, 24],\n",
    "             [31, 32, 33, 34]])\n",
    "B = np.array([[5, 4, 2],\n",
    "             [1, 0, 2],\n",
    "             [3, 8, 2],\n",
    "             [24, 12, 57]])\n",
    "x = np.array([1, 2, 3, 4])\n",
    "y = np.array([-3, 5, 6, -4])\n",
    "\n",
    "print(np.dot(x, y)) # Vektor mal Vektor\n",
    "print(np.dot(A, x)) # Matrix mal Vektor\n",
    "print(np.dot(A, B)) # Matrix mal Matrix"
   ]
  },
  {
   "cell_type": "markdown",
   "metadata": {},
   "source": [
    "Natürlich gilt hier auch die Einschränkung, dass die Anzahl der Spalten des ersten Arrays gleich der Anzahl der Zeilen des zweiten Arrays sein muss. Ansonsten erhält man eine Fehlermeldung."
   ]
  },
  {
   "cell_type": "code",
   "execution_count": 40,
   "metadata": {},
   "outputs": [
    {
     "ename": "ValueError",
     "evalue": "shapes (4,3) and (4,) not aligned: 3 (dim 1) != 4 (dim 0)",
     "output_type": "error",
     "traceback": [
      "\u001b[31m---------------------------------------------------------------------------\u001b[39m",
      "\u001b[31mValueError\u001b[39m                                Traceback (most recent call last)",
      "\u001b[36mCell\u001b[39m\u001b[36m \u001b[39m\u001b[32mIn[40]\u001b[39m\u001b[32m, line 1\u001b[39m\n\u001b[32m----> \u001b[39m\u001b[32m1\u001b[39m \u001b[38;5;28mprint\u001b[39m(\u001b[43mnp\u001b[49m\u001b[43m.\u001b[49m\u001b[43mdot\u001b[49m\u001b[43m(\u001b[49m\u001b[43mB\u001b[49m\u001b[43m,\u001b[49m\u001b[43m \u001b[49m\u001b[43mx\u001b[49m\u001b[43m)\u001b[49m)\n",
      "\u001b[31mValueError\u001b[39m: shapes (4,3) and (4,) not aligned: 3 (dim 1) != 4 (dim 0)"
     ]
    }
   ],
   "source": [
    "print(np.dot(B, x))"
   ]
  },
  {
   "cell_type": "code",
   "execution_count": 41,
   "metadata": {},
   "outputs": [
    {
     "name": "stdout",
     "output_type": "stream",
     "text": [
      "[112  76 240]\n"
     ]
    }
   ],
   "source": [
    "print(np.dot(B.T, x)) # B.T transponiert B"
   ]
  },
  {
   "cell_type": "markdown",
   "metadata": {},
   "source": [
    "Da die skalaren Operatoren `+`, `-`, `*`, `/` und `**` für elementweise Rechnungen gedacht sind, wird bei der Ausführung `A * B` versucht, die Elemente von `A` und `B` einzel miteinander zu multiplizieren. Aufgrund der unterschliedlichen Gestalten dieser zwei Arrays, erhält man eine Fehlermeldung."
   ]
  },
  {
   "cell_type": "code",
   "execution_count": 42,
   "metadata": {},
   "outputs": [
    {
     "ename": "ValueError",
     "evalue": "operands could not be broadcast together with shapes (3,4) (4,3) ",
     "output_type": "error",
     "traceback": [
      "\u001b[31m---------------------------------------------------------------------------\u001b[39m",
      "\u001b[31mValueError\u001b[39m                                Traceback (most recent call last)",
      "\u001b[36mCell\u001b[39m\u001b[36m \u001b[39m\u001b[32mIn[42]\u001b[39m\u001b[32m, line 1\u001b[39m\n\u001b[32m----> \u001b[39m\u001b[32m1\u001b[39m \u001b[43mA\u001b[49m\u001b[43m \u001b[49m\u001b[43m*\u001b[49m\u001b[43m \u001b[49m\u001b[43mB\u001b[49m\n",
      "\u001b[31mValueError\u001b[39m: operands could not be broadcast together with shapes (3,4) (4,3) "
     ]
    }
   ],
   "source": [
    "A * B"
   ]
  },
  {
   "cell_type": "markdown",
   "metadata": {},
   "source": [
    "Wenn man ein Skalarprodukt unbedingt mit dieser Syntax ausführen möchte, kann man den Operator `@` verwenden."
   ]
  },
  {
   "cell_type": "code",
   "execution_count": 43,
   "metadata": {},
   "outputs": [
    {
     "data": {
      "text/plain": [
       "array([[ 442,  316,  870],\n",
       "       [ 772,  556, 1500],\n",
       "       [1102,  796, 2130]])"
      ]
     },
     "execution_count": 43,
     "metadata": {},
     "output_type": "execute_result"
    }
   ],
   "source": [
    "A @ B"
   ]
  },
  {
   "cell_type": "markdown",
   "metadata": {},
   "source": [
    "Speziellere Funktionen der linearen Algebra befinden sich im Untermodul `linalg`. Eine wichtige Funktion davon ist `norm`, welche, wie der Name schon sagt, die Norm eines Arrays ausgibt. \n",
    "Die Syntax von `norm`:\n",
    "```\n",
    "norm(x[, ord=None][, axis=None])\n",
    "```\n",
    "Dabei ist `x` ein Array, `ord` die Art der Norm und `axis` die Achse, entlang welcher man die Norm berechnen soll. Oft verwendet man die Euklidische Norm (2-Norm) für Vektoren und muss dafür den Argument `ord` nicht übergeben."
   ]
  },
  {
   "cell_type": "code",
   "execution_count": 44,
   "metadata": {},
   "outputs": [
    {
     "name": "stdout",
     "output_type": "stream",
     "text": [
      "3.7416573867739413\n",
      "3.7416573867739413\n"
     ]
    }
   ],
   "source": [
    "x = np.array([1, 2, 3])\n",
    "x_norm_method1 = np.sqrt(np.sum(x**2)) # Alle Elemente quadrieren, summieren und Wurzel davon nehmen\n",
    "x_norm_method2 = np.linalg.norm(x)\n",
    "\n",
    "print(x_norm_method1)\n",
    "print(x_norm_method2)"
   ]
  },
  {
   "cell_type": "markdown",
   "metadata": {},
   "source": [
    "Ist `x` ein 2D-Array und man lässt `ord` weg, so wird die sog. Frobenius-Norm verwendet, die analog zur euklidischen Norm definiert ist."
   ]
  },
  {
   "cell_type": "code",
   "execution_count": 45,
   "metadata": {},
   "outputs": [
    {
     "name": "stdout",
     "output_type": "stream",
     "text": [
      "16.881943016134134\n",
      "16.881943016134134\n"
     ]
    }
   ],
   "source": [
    "A = np.array([[1, 2, 3], [4, 5, 6], [7, 8, 9]])\n",
    "A_norm_method1 = np.sqrt(np.sum(A**2)) # Alle Elemente quadrieren, summieren und Wurzel davon nehmen\n",
    "A_norm_method2 = np.linalg.norm(A)\n",
    "\n",
    "print(A_norm_method1)\n",
    "print(A_norm_method2)"
   ]
  },
  {
   "cell_type": "markdown",
   "metadata": {},
   "source": [
    "Man kann auch die Norm für jede Zeile/Spalte in `A` mit Hilfe des Arguments `axis` berechnen. "
   ]
  },
  {
   "cell_type": "code",
   "execution_count": 46,
   "metadata": {},
   "outputs": [
    {
     "name": "stdout",
     "output_type": "stream",
     "text": [
      "[ 3.74165739  8.77496439 13.92838828]\n",
      "[1 2 3] 3.7416573867739413\n",
      "[4 5 6] 8.774964387392123\n",
      "[7 8 9] 13.92838827718412\n",
      "[ 8.1240384   9.64365076 11.22497216]\n"
     ]
    }
   ],
   "source": [
    "A_zeilennorm = np.linalg.norm(A, axis=1)\n",
    "print(A_zeilennorm)\n",
    "\n",
    "for row in A:\n",
    "    print(row, np.linalg.norm(row))\n",
    "\n",
    "A_spaltennorm = np.linalg.norm(A, axis=0)\n",
    "print(A_spaltennorm)"
   ]
  },
  {
   "cell_type": "markdown",
   "metadata": {},
   "source": [
    "Auch sehr nützlich ist die Funktion `eigh`, um Eigenwerte und Eigenvektoren von symmetrischen Matrizen zu berechnen. Da `A` noch nicht symmetrisch ist, können wir mit Hilfe der Transposition eine symmetrische Matrix erzeugen und die Eigenwerten davon berechnen. "
   ]
  },
  {
   "cell_type": "code",
   "execution_count": 47,
   "metadata": {},
   "outputs": [
    {
     "name": "stdout",
     "output_type": "stream",
     "text": [
      "[-2.91647287e+00 -3.84527525e-17  3.29164729e+01]\n",
      "[[-0.84243284  0.40824829 -0.35162514]\n",
      " [-0.1647127  -0.81649658 -0.55335618]\n",
      " [ 0.51300744  0.40824829 -0.75508721]]\n"
     ]
    }
   ],
   "source": [
    "M = A + A.T\n",
    "eigenwerte, eigenvektoren = np.linalg.eigh(M)\n",
    "print(eigenwerte)\n",
    "print(eigenvektoren)"
   ]
  },
  {
   "cell_type": "markdown",
   "metadata": {},
   "source": [
    "Die Eigenvektoren sind die Spalten in dem ausgegebenen Array `eigenvektoren`. Für quadratische, asymmetrische Matrizen kann die Funktion `eig` verwendet werden."
   ]
  }
 ],
 "metadata": {
  "kernelspec": {
   "display_name": "base",
   "language": "python",
   "name": "python3"
  },
  "language_info": {
   "codemirror_mode": {
    "name": "ipython",
    "version": 3
   },
   "file_extension": ".py",
   "mimetype": "text/x-python",
   "name": "python",
   "nbconvert_exporter": "python",
   "pygments_lexer": "ipython3",
   "version": "3.12.8"
  },
  "varInspector": {
   "cols": {
    "lenName": 16,
    "lenType": 16,
    "lenVar": 40
   },
   "kernels_config": {
    "python": {
     "delete_cmd_postfix": "",
     "delete_cmd_prefix": "del ",
     "library": "var_list.py",
     "varRefreshCmd": "print(var_dic_list())"
    },
    "r": {
     "delete_cmd_postfix": ") ",
     "delete_cmd_prefix": "rm(",
     "library": "var_list.r",
     "varRefreshCmd": "cat(var_dic_list()) "
    }
   },
   "types_to_exclude": [
    "module",
    "function",
    "builtin_function_or_method",
    "instance",
    "_Feature"
   ],
   "window_display": false
  }
 },
 "nbformat": 4,
 "nbformat_minor": 4
}
