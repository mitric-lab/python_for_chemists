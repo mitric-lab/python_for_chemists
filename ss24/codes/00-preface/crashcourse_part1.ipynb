{
 "cells": [
  {
   "cell_type": "markdown",
   "metadata": {},
   "source": [
    "# Crashkurs: Jupyter Notebooks und Python\n",
    "\n",
    "In diesem Notebook erklären wir, wie Sie das `jupyter`-Notebook als Hauptinterface zum Schreiben und Ausführen von Code verwenden können. Bitte stellen Sie sicher, dass Sie die `python`-Umgebung und das `jupyter`-Notebook auf Ihrem Computer installiert haben, wie in den [Vorlesungsunterlagen](https://mitric-lab.github.io/python_for_chemists_ss24/00-preface/02-getting_started.html) erklärt. Zudem soll Ihnen dieser kurze Crashkurs anhand von Beispielen die wichtigsten Punkte von Python näherbringen. In jedem Abschnitt ist außerdem ein Verweis zu ausführlicheren Erklärungen angegeben."
   ]
  },
  {
   "cell_type": "markdown",
   "metadata": {},
   "source": [
    "## Nutzung von jupyter Notebooks\n",
    "\n",
    "Nun, da alle Pakete installiert sind, sollten Sie in der Lage sein, einen `jupyter`-Server auf Ihrem Rechner zu starten, also einen Prozess, der Codeabschnitte in einem `python`-Kernel ausführen und das Ergebnis zurückgeben kann. Die einfachste, aber nicht die einzige Möglichkeit, mit solchen `Kernels` zu interagieren, ist über den browserbasierten Dienst `jupyter notebook`.\n",
    "\n",
    "Jedes Notebook besteht aus mehreren Eingabe- und Ausgabezellen, wobei die Eingabe den auszuführenden Code enthält, während die benachbarte Ausgabezelle das Ergebnis der Berechnung anzeigt. Wichtig ist, dass diese Zellen Code in mehreren Sprachen wie `julia`, `python` oder `R` (beachten Sie den Namen: `jupyter`), aber auch in Markdown-formatiertem Text, HTML-Blöcken oder sogar LaTeX-Gleichungen enthalten können. Dies macht `jupyter`-Notebooks zu einem großartigen Werkzeug, um interaktive Dokumente zu erstellen, die direkt in HTML oder LaTex/PDF-Berichte exportiert werden können.\n",
    "\n",
    "Um einen `jupyter`-Server zu starten, navigieren Sie einfach in das Verzeichnis Ihres Dateisystems, in welchem Sie ein `jupyter`-Notebook erstellen oder öffnen möchten (d.h. die entsprechende `.ipynb`-Datei), und führen Sie den folgenden Befehl in Ihrem Terminal aus:\n",
    "\n",
    "```\n",
    "> jupyter notebook\n",
    "```\n",
    "\n",
    "Ein Browser wird gestartet und Sie sollten die `.ipynb`-Datei in Ihrem Browserfenster sehen. Klicken Sie darauf (Doppelklick), um das interaktive Dokument zu öffnen. Ebenso können Sie ein neues Notebook erstellen. Durch Doppelklicken einer Eingabezelle in diesem Notebook können Sie den zugrunde liegenden Text oder Code bearbeiten. Durch Drücken von Shift+Enter wird der Code ausgeführt und entweder der formatierte Text oder das Ergebnis des zugrunde liegenden Codes angezeigt.\n",
    "\n",
    "Probieren wir dies in der folgenden Eingabezelle aus, die `python`-Code enthält, und eine einfache Ausgabe generiert:"
   ]
  },
  {
   "cell_type": "code",
   "execution_count": null,
   "metadata": {},
   "outputs": [],
   "source": [
    "x = 2 * 21\n",
    "print(x)"
   ]
  },
  {
   "cell_type": "markdown",
   "metadata": {},
   "source": [
    "Sie können eine neue Eingabezelle unter dem aktuellen Cursor entweder durch Klicken auf die Schaltfläche `+` im oberen linken Menü oder durch Drücken von `b` auf der Tastatur erstellen. Wenn Sie eine Zelle bearbeiten, können Sie `Esc` drücken, um in den Befehlsmodus zu wechseln, in dem Sie eine Zelle hinzufügen, bearbeiten oder löschen können. Um eine Zelle zu löschen, drücken Sie `D` zweimal im Befehlsmodus. Um den Zellentyp von `python` in `markdown` zu ändern, drücken Sie im Befehlsmodus `m`. Drücken Sie `y`, um ihn wieder in `python`-Code zu ändern. Probieren wir dies mit der folgenden Markdown-Zelle aus, die eine LaTeX-Formel sowie einen HTML-Code enthält:"
   ]
  },
  {
   "cell_type": "markdown",
   "metadata": {},
   "source": [
    "Der `python` Code wird von dem zugrunde liegenden `python`-Kernel ausgeführt, dessen aktueller Status in der Statusleiste des Notebook-Fensters angezeigt wird. Sie können dies sehen, wenn Sie die folgende Zelle ausführen (drücken Sie Shift+Enter):"
   ]
  },
  {
   "cell_type": "code",
   "execution_count": null,
   "metadata": {},
   "outputs": [],
   "source": [
    "s = 0\n",
    "for i in range(100_000_000):\n",
    "    if i % 2 == 1:\n",
    "        s += i"
   ]
  },
  {
   "cell_type": "markdown",
   "metadata": {},
   "source": [
    "Zudem ist es wichtig zu beachten, dass der `python`-Kernel ein einzelner Prozess ist, der den Code in den Zellen des Notebooks nacheinander ausführt. Dies impliziert, dass die Reihenfolge Ihrer Ausführung den aktuellen Zustand des Kernels bestimmt, d.h. welche Variablen existieren und welche Werte diese Variablen haben. Insbesondere wird der Zustand über mehrere Zellen hinweg beibehalten, wie Sie im folgenden Beispiel sehen können:"
   ]
  },
  {
   "cell_type": "code",
   "execution_count": null,
   "metadata": {},
   "outputs": [],
   "source": [
    "x = 42"
   ]
  },
  {
   "cell_type": "code",
   "execution_count": null,
   "metadata": {},
   "outputs": [],
   "source": [
    "print(x)"
   ]
  },
  {
   "cell_type": "markdown",
   "metadata": {},
   "source": [
    "Falls Sie diese beiden Zellen in umgekehrter Reihenfolge ausführen, wird ein Fehler generiert. Dies scheint zunächst trivial zu sein, aber bei komplexen Notebooks, in denen Sie Zellen hin und her ausführen, kann es schwierig werden, den aktuellen Zustand zu verstehen. Sie können den aktuellen Zustand immer löschen, indem Sie den aktuellen Kernel beenden und einen neuen Interpreterprozess starten. Sie können dies tun, indem Sie \"Kernel neu starten\" im Kernel-Menü oben auswählen. Probieren Sie es aus und führen Sie dann die folgende Zelle aus, die einen Fehler zurückgibt, da eine Variable mit dem Namen `x` im neuen Kernel nicht definiert wurde."
   ]
  },
  {
   "cell_type": "code",
   "execution_count": null,
   "metadata": {},
   "outputs": [],
   "source": [
    "print(x)"
   ]
  },
  {
   "cell_type": "markdown",
   "metadata": {},
   "source": [
    "## Struktur eines Python-Programms ([ausführlich](https://www.python-kurs.eu/python3_bloecke.php))\n",
    "\n",
    "Generell besteht Pythoncode aus einer Anzahl aneinandergereihter Anweisungen/Statements. Verschiedene Anweisungen/Statements können verschiedene Verhalten bewirken: zum Beispiel die Auswertung eines mathematischen Ausdrucks, die Ausgabe von berechneten Werten oder das Einlesen von bestimmten Parametern. Um dem Computer zu vermitteln, welche Aktion er als nächstes ausführen soll, benötigt es einer fest definierten Codestruktur. <br>\n",
    "Das geschriebene Programm wird immer Zeile für Zeile vom Interpreter (Computer) ausgeführt. Mit einem Zeilenumbruch im Code beginnt eine neue Anweisung. Im folgenden Beispiel wird in der ersten Zeile die Aktion `print` ausgeführt. Diese Aktion ist mit dem Zeilenumbruch beendet. Nun folgt in der zweiten Zeile ebenfalls ein `print` Befehl der unabhängig von dem Vorherigen ausgeführt wird.  "
   ]
  },
  {
   "cell_type": "code",
   "execution_count": null,
   "metadata": {},
   "outputs": [],
   "source": [
    "print(\"Guten Tag beim Python Crashkurs\")\n",
    "print(\"Viel Spaß beim Programmieren.\")"
   ]
  },
  {
   "cell_type": "markdown",
   "metadata": {},
   "source": [
    "Einschub: Es gibt einige Sondersymbole in der Pythonsprache. Eines ist zum Beispiel `#` . Wird dieses in einer Skriptzeile gesetzt, wird der danach kommende Ausdruck nicht mehr als Code interpretiert und nicht ausgeführt. Es dient lediglich als Kommentar und erscheint auch nicht in der Ausgabe. Sie sollten Umlaute in Variablennamen und Kommentaren vermeiden, da diese (ohne Angabe dieser Codierung) eine Fehlermeldung hervorrufen."
   ]
  },
  {
   "cell_type": "code",
   "execution_count": null,
   "metadata": {},
   "outputs": [],
   "source": [
    "print(\"Der danach kommende Ausdruck wird nicht ausgeführt\")  # Das ist ein Kommentar, der nicht ausgefuehrt wird"
   ]
  },
  {
   "cell_type": "markdown",
   "metadata": {},
   "source": [
    "So können Sie beliebig viele Anweisungen mit einem Zeilenumbruch nacheinander ablaufen lassen. Wie Sie später genauer sehen werden, gibt es in Python viele verschiedene Konstrukte/Verzweigungen, die noch eine weitere Sturktureinheit benötigen. Man spricht von sogenannten Blöcken, die durch bestimmte Einrückungen (i.d.R Tabulator oder 4 Leerzeichen) der jeweiligen Codezeile des Programms entstehen.<br>\n"
   ]
  },
  {
   "cell_type": "code",
   "execution_count": null,
   "metadata": {},
   "outputs": [],
   "source": [
    "print(\"Erster Block\") # keine Einrueckung\n",
    "for i in range(3):\n",
    "    print(\"Zweiter Block\") # ab hier um 1 tab eingerueckt\n",
    "    if i < 2:\n",
    "        print(\"Dritter Block\") # ab hier um 2 tab eingerueckt\n",
    "    print(\"Jetzt wieder zweiter Block\")\n",
    "print(\"Jetzt wieder erster Block\")"
   ]
  },
  {
   "cell_type": "markdown",
   "metadata": {},
   "source": [
    "Wie genau das obige Beispiel funktioniert, ist im Moment noch nicht von Bedeutung. Wichtig ist nur, dass Sie sich merken, dass es unterschiedliche Blöcke mit verschiedenen Einrückungen gibt. Die Zugehörigkeit der jeweiligen Code-Zeile zu einem Block wird durch die Zahl der Tabs festgelegt."
   ]
  },
  {
   "cell_type": "markdown",
   "metadata": {},
   "source": [
    "## Variablen und elementare Datentypen ([ausführlich](https://www.python-kurs.eu/python3_variablen.php))\n",
    "Variablen sind die Namen, unter denen Werte gespeichert oder abgerufen werden können. Mit dem Operator `=` kann einer Variable ein Wert zugewiesen werden. Der Name der Variable darf keine Sonderzeichen enthalten und muss mit einem Buchstaben beginnen, Unterstriche sind auch erlaubt. Beispiele für gültige Variablen sind:"
   ]
  },
  {
   "cell_type": "code",
   "execution_count": null,
   "metadata": {},
   "outputs": [],
   "source": [
    "x = 10\n",
    "city = \"Hannover\"\n",
    "longVariable_Name = 3.14\n",
    "favorite_number_2 = 2.718\n",
    "complex_number = 1 + 2j"
   ]
  },
  {
   "cell_type": "markdown",
   "metadata": {},
   "source": [
    "'x' steht jetzt für den Wert 10 und kann in anderen Ausdrücken verwendet werden."
   ]
  },
  {
   "cell_type": "code",
   "execution_count": null,
   "metadata": {},
   "outputs": [],
   "source": [
    "x"
   ]
  },
  {
   "cell_type": "code",
   "execution_count": null,
   "metadata": {},
   "outputs": [],
   "source": [
    "x * x"
   ]
  },
  {
   "cell_type": "markdown",
   "metadata": {},
   "source": [
    "Um den Wert einer Variable auszuschreiben, können wir auch die Funktion `print(...)` verwenden:"
   ]
  },
  {
   "cell_type": "code",
   "execution_count": null,
   "metadata": {},
   "outputs": [],
   "source": [
    "print(x)\n",
    "print(x*x)\n",
    "print(\"The value of x is: \", x, \" and the value of x*x is : \", x*x)"
   ]
  },
  {
   "cell_type": "markdown",
   "metadata": {},
   "source": [
    "Variablen müssen zuerst definiert werden, bevor sie verwendet werden können. \n",
    "Andernfalls bekommt man eine Fehlermeldung."
   ]
  },
  {
   "cell_type": "code",
   "execution_count": null,
   "metadata": {},
   "outputs": [],
   "source": [
    "bla"
   ]
  },
  {
   "cell_type": "markdown",
   "metadata": {},
   "source": [
    "Variablen können unterschiedliche Datentypen enthalten. \n",
    "Elementare Datentypen sind z.B.:<br>\n",
    "     - Ganzzahlen: `int`<br>\n",
    "     - Fließkommazahlen: `float`<br>\n",
    "     - Zeichenketten: `str`<br>\n",
    "     - Komplexe Zahlen: `complex` (Beachten Sie, dass bei komplexen Zahlen der Buchstabe j für den Imaginärteil verwendet wird).<br>\n",
    "Um welchen Datentyp es sich handelt, kann man mit der Funktion `type(variable_name)` herausfinden:"
   ]
  },
  {
   "cell_type": "code",
   "execution_count": null,
   "metadata": {},
   "outputs": [],
   "source": [
    "type(x)"
   ]
  },
  {
   "cell_type": "code",
   "execution_count": null,
   "metadata": {},
   "outputs": [],
   "source": [
    "type(city)"
   ]
  },
  {
   "cell_type": "code",
   "execution_count": null,
   "metadata": {},
   "outputs": [],
   "source": [
    "type(longVariable_Name)"
   ]
  },
  {
   "cell_type": "code",
   "execution_count": null,
   "metadata": {},
   "outputs": [],
   "source": [
    "type(complex_number)"
   ]
  },
  {
   "cell_type": "markdown",
   "metadata": {},
   "source": [
    "Ein weiterer Datentyp ist `bool`. Boolesche Variablen können nur zwei Werte haben, `True` oder `False`."
   ]
  },
  {
   "cell_type": "code",
   "execution_count": null,
   "metadata": {},
   "outputs": [],
   "source": [
    "condition = True\n",
    "type(condition)"
   ]
  },
  {
   "cell_type": "markdown",
   "metadata": {},
   "source": [
    "Variablen vom Type `bool` sind häufig das Ergebnis von Vergleichsoperationen:                 \n",
    "(Wenn die Variable x den Wert 10 besitzt, gibt die Konsole ein bool mit dem Wert True zurück)"
   ]
  },
  {
   "cell_type": "code",
   "execution_count": null,
   "metadata": {},
   "outputs": [],
   "source": [
    "x == 10"
   ]
  },
  {
   "cell_type": "markdown",
   "metadata": {},
   "source": [
    "__Beachten Sie, dass zum Vergleichen der Operator `==` verwendet wird. `x = 10` würde der Variable `x` den Wert 10 zuweisen.__"
   ]
  },
  {
   "cell_type": "code",
   "execution_count": null,
   "metadata": {},
   "outputs": [],
   "source": [
    "x <= 100"
   ]
  },
  {
   "cell_type": "code",
   "execution_count": null,
   "metadata": {},
   "outputs": [],
   "source": [
    "x > 100"
   ]
  },
  {
   "cell_type": "markdown",
   "metadata": {},
   "source": [
    "Einige Vergleichsoperatoren auf einen Blick:\n",
    "\n",
    "        x == 1          Testet, ob die Variable x gleich dem Wert eins ist.\n",
    "        x >  1          Testet, ob x größer als der Wert eins ist.\n",
    "        x >= 1          Testet, ob x größer oder gleich dem Wert eins ist.\n",
    "        x <  1          Testet, ob x kleiner als der Wert eins ist.\n",
    "        x <= 1          Testet, ob x kleiner oder gleich dem Wert eins ist.\n",
    "        x != 1          Testet, ob x ungleich dem Wert eins ist."
   ]
  },
  {
   "cell_type": "markdown",
   "metadata": {},
   "source": [
    "Wenn eine Variable zwar definiert ist, aber keinen bestimmten Wert haben soll, kann man ihr den speziellen Datentype `None` geben:"
   ]
  },
  {
   "cell_type": "code",
   "execution_count": null,
   "metadata": {},
   "outputs": [],
   "source": [
    "someVariable = None\n",
    "type(someVariable)"
   ]
  },
  {
   "cell_type": "markdown",
   "metadata": {},
   "source": [
    "## Operatoren ([ausführlich](https://www.python-kurs.eu/python3_operatoren.php))\n",
    "Zwischen numerischen Datentypen sind die üblichen mathematischen Operatoren erlaubt. Gegebenenfalls müssen Klammern verwendet  werden:"
   ]
  },
  {
   "cell_type": "code",
   "execution_count": null,
   "metadata": {},
   "outputs": [],
   "source": [
    "(1+5.0)*3.0/5.0"
   ]
  },
  {
   "cell_type": "markdown",
   "metadata": {},
   "source": [
    "Dabei wertet Python immer zuerst den gesamten rechts stehenden Ausdruck aus, bevor es den Wert der Variablen zuweist. Somit wird im nachfolgendem Beispiel zuerst `2 + (3-5)/3` nach der bekannten mathematischen Abfolge ausgewertet und dann der Variablen `math_value` zugewiesen."
   ]
  },
  {
   "cell_type": "code",
   "execution_count": null,
   "metadata": {},
   "outputs": [],
   "source": [
    "math_value = 2.0 + (3.0 - 5.0)/3.0\n",
    "print(math_value)"
   ]
  },
  {
   "cell_type": "markdown",
   "metadata": {},
   "source": [
    "Boolesche Werte können durch logische Operationen (`and`, `or`, `not`) verknüpft werden: "
   ]
  },
  {
   "cell_type": "code",
   "execution_count": null,
   "metadata": {},
   "outputs": [],
   "source": [
    "True or False"
   ]
  },
  {
   "cell_type": "code",
   "execution_count": null,
   "metadata": {},
   "outputs": [],
   "source": [
    "not True"
   ]
  },
  {
   "cell_type": "code",
   "execution_count": null,
   "metadata": {},
   "outputs": [],
   "source": [
    "number = 7\n",
    "(number < 10) and (number > 5)"
   ]
  },
  {
   "cell_type": "markdown",
   "metadata": {},
   "source": [
    "## Listen (`list`, [ausführlich](https://www.python-kurs.eu/python3_sequentielle_datentypen.php))\n",
    "Der Datentyp `list` dient dazu, größere Mengen von Daten geordnet zu speichern.\n",
    "Eine Liste wird durch eckige Klammern `[...]` erzeugt:"
   ]
  },
  {
   "cell_type": "code",
   "execution_count": null,
   "metadata": {},
   "outputs": [],
   "source": [
    "students = ['Hans', 'Klara', 'Lisa', 'Mark']"
   ]
  },
  {
   "cell_type": "markdown",
   "metadata": {},
   "source": [
    "Auf die Elemente einer Liste kann durch einen Index in eckigen Klammern direkt hinter der Variablen, der die Position des Elements in der Liste angibt, zugegriffen werden. \n",
    "__Die erste Position hat den Index `0` (nicht `1`)__"
   ]
  },
  {
   "cell_type": "code",
   "execution_count": null,
   "metadata": {},
   "outputs": [],
   "source": [
    "print(students[0])\n",
    "print(students[2])"
   ]
  },
  {
   "cell_type": "markdown",
   "metadata": {},
   "source": [
    "Statt von vorne zu zählen, kann man die Position auch von hinten angeben. Das letzte Element der Liste hat den Index -1, das vorletzte -2 usw."
   ]
  },
  {
   "cell_type": "code",
   "execution_count": null,
   "metadata": {},
   "outputs": [],
   "source": [
    "print(students[-1])"
   ]
  },
  {
   "cell_type": "markdown",
   "metadata": {},
   "source": [
    "Eine Liste kann erweitert werden, indem man neue Element ans Ende anfügt:"
   ]
  },
  {
   "cell_type": "code",
   "execution_count": null,
   "metadata": {},
   "outputs": [],
   "source": [
    "students.append('neuer Student')\n",
    "print(students)"
   ]
  },
  {
   "cell_type": "markdown",
   "metadata": {},
   "source": [
    "Die Funktion `append(element)` ist hier eine vordefinierte _Methode_ des Datentyps `list`. Weitere Methode ist `insert(position, element)`, die ein Element vor einer beliebigen Position einfügt, oder `sort()`, welche die Elemente der Liste sortiert. (z.B: Anfangsbuchstaben der Namen)"
   ]
  },
  {
   "cell_type": "code",
   "execution_count": null,
   "metadata": {},
   "outputs": [],
   "source": [
    "students.insert(0, 'Gisela')\n",
    "students.sort()\n",
    "print(students)"
   ]
  },
  {
   "cell_type": "markdown",
   "metadata": {},
   "source": [
    "Wenn Sie die Zelle mehrmals ausführen, werden Sie merken, dass immer mehr Giselas hinzukommen. Das liegt daran, dass die Variable `students` im Notebook gespeichert ist. Um alle Definitionen zu entfernen und einen sauberen Arbeitsspeicher zu erhalten, können Sie in der Menüleiste auf `Kernel->Restart & Clear Output` klicken. \n",
    "\n",
    "Listen können durch den `+` Operator verkettet werden. Die Elemente einer Liste müssen nicht alle den gleichen Datentyp haben, obwohl das üblicherweise so ist."
   ]
  },
  {
   "cell_type": "code",
   "execution_count": null,
   "metadata": {},
   "outputs": [],
   "source": [
    "[1, 2, 3, 4] + [\"Lisa\", 'Karl', 3]"
   ]
  },
  {
   "cell_type": "markdown",
   "metadata": {},
   "source": [
    "Die Länge einer Liste erhält man mit der Methode `len(liste)`:"
   ]
  },
  {
   "cell_type": "code",
   "execution_count": null,
   "metadata": {},
   "outputs": [],
   "source": [
    "len(students)"
   ]
  },
  {
   "cell_type": "markdown",
   "metadata": {},
   "source": [
    "Eine Übersicht aller Methoden, die von einem Datentyp (besser gesagt einem [Objekt](https://www.python-kurs.eu/python3_klassen.php)) zur Verfügung gestellt werden, erhalten Sie mit der Funktion `help(object)`:\n",
    "\n",
    "Hinweis: Wenn Sie ein bisschen nach unten scrollen, finden Sie die oben verwendeten Methoden `append(element)` und `insert(position, element)` wieder."
   ]
  },
  {
   "cell_type": "code",
   "execution_count": null,
   "metadata": {},
   "outputs": [],
   "source": [
    "help(students)"
   ]
  },
  {
   "cell_type": "markdown",
   "metadata": {},
   "source": [
    "__Weitere Datentypen in Python sind `dictionaries`, `tuples` und `sets`, welche wir zu einem späteren Zeitpunkt besprechen werden.__"
   ]
  },
  {
   "cell_type": "markdown",
   "metadata": {},
   "source": [
    "## Steuerkonstrukte: Verzweigungen und Schleifen\n",
    "Die Programme, die wir bis jetzt gesehen haben, waren alle linearer Struktur. Das bedeutet, es wurde jede Zeile von oben nach unten nacheinander nur einmal ausgeführt. Um diese Struktur zu durchbrechen, gibt es in Python die Möglichkeiten Codesegmente nur ausführen zu lassen, falls gewisse Bedingungen erfüllt sind. Dabei gibt es die Möglichkeit des einmaligen Ausführens (`if`- Bedingungen), bzw. für wiederholte Ausführungen, solange bis die Bedingung nicht mehr erfüllt ist (`while`-Schleife). Außerdem bietet Python mit dem Konstrukt der `for`-Schleife die Möglichkeit, ein Statment für eine vorbestimmte Zahl von Iterationen ablaufen zu lassen. Für alle drei wird der Anweisungsblock allein durch die Einrückung des Codes festgelegt."
   ]
  },
  {
   "cell_type": "markdown",
   "metadata": {},
   "source": [
    "### If - Anweisung ([ausführlich)](https://www.python-kurs.eu/python3_bedingte_anweisungen.php)\n",
    "Werden verwendet, wenn eine gewisser Codeblock nur unter ganz bestimmten Voraussetzungen ausgeführt werden soll. \n",
    "\n",
    "Synthax Aufbau:\n",
    "\n",
    "`if Bedingung:\n",
    "    Anweisungen`\n",
    "        \n",
    "Wenn die Bedingung wahr ist (`bool` Wert: `True`) wird die eingerückte Anweisung ausgeführt  "
   ]
  },
  {
   "cell_type": "code",
   "execution_count": null,
   "metadata": {},
   "outputs": [],
   "source": [
    "a = 5\n",
    "if a == 5:\n",
    "    print(a)\n",
    "print(\"If-Verzweigung wird ausgefuehrt: 5 == 5 (True)\")"
   ]
  },
  {
   "cell_type": "markdown",
   "metadata": {},
   "source": [
    "Machen Sie sich hierbei den Unterschied zwischen dem Zuweisungsoperator `=` und dem Vergleichsoperator `==` deutlich. In der ersten Zeile wird der Variablen `a` der `int` Wert `5` zugewiesen. In der zweiten Zeile wird eine `if`\n",
    " Verzweigung aufgerufen, die nur ausgeführt wird, wenn die Bedingung `a==5` den bool Wert `True` zurückgibt. (Da `5 == 5` eine wahre Aussage darstellt, ist die Bedingung erfüllt und die Anweisung der Verzweigung wird ausgeführt. "
   ]
  },
  {
   "cell_type": "code",
   "execution_count": null,
   "metadata": {},
   "outputs": [],
   "source": [
    "a = 5\n",
    "if a == 4:\n",
    "    print(a)\n",
    "print(\"If-Verzweigung wird nicht ausgefuehrt: 5 == 4 (False)\")"
   ]
  },
  {
   "cell_type": "markdown",
   "metadata": {},
   "source": [
    "Es könen auch mehrere Teilbedingungen über die logischen Operatoren `and` und `or` zu einer Gesamtbedingung verknüpft werden.<br>\n",
    "`if a == 4 and b == 5:\n",
    "    print (\"Zwei Teilbedingungen, die beide True ergeben müssen\")\n",
    " if a == 4 or b == 5:\n",
    "    print (\"Nur eine der zwei Teilbedingungen muss True ergeben\")`"
   ]
  },
  {
   "cell_type": "markdown",
   "metadata": {},
   "source": [
    "### elif, else - Anweisungen ([ausführlich](https://www.tutorialspoint.com/python3/python_if_else.htm))\n",
    "Wenn nicht nur eine Bedingung, sondern weitere verschiedene Bedingungen überprüft werden sollen, kann die `if`-Anweisung mit `elif`-Anweisungen (kurz für: \"else if\") erweitert werden. Soll, wenn keine Bedingung bei der Überprüfung den bool Wert `True` zurückgibt, eine gewisser Code folgen, kann dies mit der `else`-Anweisung geschehen. Diese wird nur ausgeführt, wenn alle `if` bzw. `elif`-Anweisungen den bool Wert `false` besitzen."
   ]
  },
  {
   "cell_type": "code",
   "execution_count": null,
   "metadata": {},
   "outputs": [],
   "source": [
    "value = 8 # der Variablen value wird der Wert 8 zugewiesen\n",
    "\n",
    "if value == 4:     # value == 4 -> False (8 == 4) \n",
    "    print(\"Die Variable hat den Wert vier\")\n",
    "elif value == 5:   # value == 4 -> False (8 == 5)  \n",
    "    print(\"Die Variable hat den Wert fünf\")\n",
    "else:              # Beide Bedingungen sind False, somit wird die else Anweisung ausgefuehrt\n",
    "    print(\"Die Variable value ist weder vier noch fünf\")"
   ]
  },
  {
   "cell_type": "markdown",
   "metadata": {},
   "source": [
    "### For-Schleifen ([ausführlich](https://www.python-kurs.eu/python3_for-schleife.php))\n",
    "Ein weiteres Konstrukt für die wiederholte Ausführung von Anweisungen bildet die `for`-Schleife. Dabei ähnelt die Synthax der einer `while`-Schleife. Im Unterschied dazu werden die Anweisungen nicht so lange wiederholt bis die Bedingung `False` erzeugt, sondern es wird so oft wiederholt wie ein iterierbares Objekt Elemente besitzt. Iterierbare Objekte sind Listen, Tupel, Arrays, etc. Die Variable nimmt dabei den Wert des jeweiligen Elements der Sequenz an (siehe Beispiele).\n",
    "Besitzt die Sequenz keine Elemente mehr, über die iteriert werden kann, wird die else-Anweisung ausgeführt.\n",
    "\n",
    "`for Variable in Sequenz:\n",
    "\tAnweisung_1\n",
    "\tAnweisung_2\n",
    "\t...\n",
    "\tAnweisung_n\n",
    "else:\n",
    "\tElse-Anweisung_1\n",
    "    ...`\n"
   ]
  },
  {
   "cell_type": "code",
   "execution_count": null,
   "metadata": {},
   "outputs": [],
   "source": [
    "for value in [1, 2, 3]:  # Iteration ueber eine Liste mit den Elementen [1,2,3].\n",
    "      print(value)       # Somit wird die Schleife 3 mal aufgerufen. Das erste Mal nimmt\n",
    "                         # value den Wert 1 an, dann den Wert 2, dann den Wert 3. \n",
    "                         # Damit endet die for-Schleife und der darunter stehende Code wird weiter ausgeführt."
   ]
  },
  {
   "cell_type": "code",
   "execution_count": null,
   "metadata": {},
   "outputs": [],
   "source": [
    "for i in range(0, 5):  # die range Funktion erzeugt ein iterierbares Objekt mit den Elementen 0,1,2,3,4\n",
    "    print(i)           # Die Schleife wird für jedes dieser Elemente ausgeführt (somit 5 mal). Dabei nimmt\n",
    "                       # die Variable i zuerst den Wert 0, dann 1, dann 2... an."
   ]
  },
  {
   "cell_type": "code",
   "execution_count": null,
   "metadata": {},
   "outputs": [],
   "source": [
    "for i in \"String\":   # Hier ist das iterierbare Objekt ein String mit 6 Elementen.\n",
    "    print(i)"
   ]
  },
  {
   "cell_type": "markdown",
   "metadata": {},
   "source": [
    "Oft ist es besser, nicht direkt über das Listenobjekt zu iterieren. Sondern über Indizes des iterierbaren Objekts, die man von der `range()` Funktion erzeugen lässt. Die Länge von Objekten kann man mit der `len(...)` Funktion abfragen lassen. In der `for`-Schleife selber kann man dann wieder über den Index (`[ ]`) auf das Listenobjekt zugreifen. "
   ]
  },
  {
   "cell_type": "code",
   "execution_count": null,
   "metadata": {},
   "outputs": [],
   "source": [
    "a = [1, 8, 4]             # Liste a mit [1,8,4]\n",
    "length = len(a)           # Der Variablen length wird der Wert 3 zugewiesen. Länge der Liste a.\n",
    "for i in range(length):   # das mit range erzeugte Objekt enthält die Werte 0,1,2. (da range(3))  \n",
    "    print(\"Der Wert der Liste a an der Stelle\", i,\"lautet\", a[i]) # nun kann über [ ] auf das i_te Element zugegriffen werden"
   ]
  },
  {
   "cell_type": "markdown",
   "metadata": {},
   "source": [
    "### Verschachtelte Schleifen und Verzweigungen\n",
    "Natürlich können die oben genannten Schleifen und Verzweigungen nach Belieben kombiniert werden."
   ]
  },
  {
   "cell_type": "code",
   "execution_count": null,
   "metadata": {},
   "outputs": [],
   "source": [
    "a = [1, 2, 3]\n",
    "for i in a:\n",
    "    if i % 2 == 0:        # % Operator ist der modulus Operator\n",
    "        print(i, \"ist gerade\")\n",
    "    else:\n",
    "        print(i, \"ist ungerade\")"
   ]
  },
  {
   "cell_type": "markdown",
   "metadata": {},
   "source": [
    "## Error Meldungen ([ausführlich](https://py-tutorial-de.readthedocs.io/de/latest/errors.html))\n",
    "Wir sind im Laufe dieses Crashkurses schon auf einige Fehlermeldungen gestoßen: \n",
    "\n",
    " - `NameError`: Variable mit dem Namen ist nicht definiert\n",
    " - `KeyError`: im Wörterbuch gibt es keinen passenden Schlüssel\n",
    " \n",
    "Im Folgenden soll ein kurzer Überblick auf weitere häufige Fehlermeldungen gegeben werden. \n",
    "\n",
    "Der wahrscheinlich häufigste Fehler in einem Programm ist der sogennante `SyntaxError`. Er wird von der Konsole ausgegeben, wenn der Pythoninterpreter den Code nicht versteht, weil die Syntax falsch ist. Bedeutet: In dem geschriebenen Code wurde zum Beispiel das `:` bei einer `for`-Schleife vergessen. Je nach Editor werden solche Fehler auch ohne Ausführen sofort unterringelt. Wie oben schon erwähnt, sagt uns die Fehlermeldung auch, wo sich der Fehler befindet. (Hier in `line 1`) "
   ]
  },
  {
   "cell_type": "code",
   "execution_count": null,
   "metadata": {},
   "outputs": [],
   "source": [
    "for i in range(5)   #hier fehlt der : am Ende einer for-Schleife\n",
    "    print(i)"
   ]
  },
  {
   "cell_type": "markdown",
   "metadata": {},
   "source": [
    "Neben den Syntaxfehlern gibt es weitere Ausnahmen (exceptions). Wenn Sie ihr Programm ausführen und es fehlerhaft ist, gibt Ihnen der Interpreter eine Fehlermeldung auf der Konsole aus. Ein Beispiel hierfür wäre, dass in dem geschriebenen Skript (zum Beispiel bei einer Schleife) an einer Stelle durch 0 geteilt wird. Dabei wird auf die Konsole beim Ausführen des Programms ein `ZeroDivisionError` ausgegeben."
   ]
  },
  {
   "cell_type": "code",
   "execution_count": null,
   "metadata": {},
   "outputs": [],
   "source": [
    "for i in range(3,-1,-1):  #erzeugt Iterationsobjekt [3,2,1,0]\n",
    "    print(5/i)"
   ]
  },
  {
   "cell_type": "markdown",
   "metadata": {},
   "source": [
    "Desweiteren gibt es `TypeError`, wenn eine Funktion einen falschen Datentyp als Argument übergeben bekommt. Zum Beispiel erwartet die `range` Funktion drei Integer. Startwert, Endwert und Schrittgröße. Wenn man dieser Funktion statt eines Integers an einer Stelle eine `float` übergibt (z.B: 0.1), kann die `range` Funktion nicht ausgeführt werden und ein Fehler wird in der Konsole ausgegeben."
   ]
  },
  {
   "cell_type": "code",
   "execution_count": null,
   "metadata": {},
   "outputs": [],
   "source": [
    "for i in range(1, 3, 0.1):\n",
    "    print(i)"
   ]
  },
  {
   "cell_type": "markdown",
   "metadata": {},
   "source": [
    "Zuletzt soll noch auf den `IndentationError` hingewiesen werden. So muss der auszuführende Codeblock immer in der gleichen Einrückungsebene liegen."
   ]
  },
  {
   "cell_type": "code",
   "execution_count": null,
   "metadata": {},
   "outputs": [],
   "source": [
    "for i in range(1,5):\n",
    "    i += 1\n",
    "     print(i)                            # der auszufuehrende Codeblock der for-Schleife muss \n",
    "    print(\"Das ist der letzte Fehler\")  # einheitlich in einer Einrueckungsebene liegen"
   ]
  },
  {
   "cell_type": "markdown",
   "metadata": {},
   "source": [
    "__Liste von weiteren [Ausnahmen (exceptions)](https://www.tutorialspoint.com/python/python_exceptions.htm)__"
   ]
  }
 ],
 "metadata": {
  "celltoolbar": "Raw Cell Format",
  "kernelspec": {
   "display_name": "Python 3 (ipykernel)",
   "language": "python",
   "name": "python3"
  },
  "language_info": {
   "codemirror_mode": {
    "name": "ipython",
    "version": 3
   },
   "file_extension": ".py",
   "mimetype": "text/x-python",
   "name": "python",
   "nbconvert_exporter": "python",
   "pygments_lexer": "ipython3",
   "version": "3.12.2"
  },
  "varInspector": {
   "cols": {
    "lenName": 16,
    "lenType": 16,
    "lenVar": 40
   },
   "kernels_config": {
    "python": {
     "delete_cmd_postfix": "",
     "delete_cmd_prefix": "del ",
     "library": "var_list.py",
     "varRefreshCmd": "print(var_dic_list())"
    },
    "r": {
     "delete_cmd_postfix": ") ",
     "delete_cmd_prefix": "rm(",
     "library": "var_list.r",
     "varRefreshCmd": "cat(var_dic_list()) "
    }
   },
   "types_to_exclude": [
    "module",
    "function",
    "builtin_function_or_method",
    "instance",
    "_Feature"
   ],
   "window_display": false
  }
 },
 "nbformat": 4,
 "nbformat_minor": 4
}
